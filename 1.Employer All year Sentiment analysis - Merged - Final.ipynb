{
 "cells": [
  {
   "cell_type": "code",
   "execution_count": 1,
   "id": "c02df733",
   "metadata": {},
   "outputs": [],
   "source": [
    "import csv\n",
    "import pandas as pd\n",
    "import numpy as np \n",
    "import os\n",
    "import nltk\n",
    "import re\n",
    "from nltk import word_tokenize\n"
   ]
  },
  {
   "cell_type": "code",
   "execution_count": 2,
   "id": "0cad009a",
   "metadata": {},
   "outputs": [],
   "source": [
    "import matplotlib.pyplot as plt\n",
    "import seaborn as sns\n",
    "\n",
    "plt.style.use('ggplot')"
   ]
  },
  {
   "cell_type": "code",
   "execution_count": 3,
   "id": "4a875aa5",
   "metadata": {},
   "outputs": [],
   "source": [
    "df0 = pd.read_csv(\"/Users/yaminirege/Desktop/E2014.csv\")\n",
    "df1 = pd.read_csv(\"/Users/yaminirege/Desktop/2.2015.csv\")\n",
    "df2 = pd.read_csv(\"/Users/yaminirege/Desktop/3.2016.csv\")\n",
    "df3 = pd.read_csv(\"/Users/yaminirege/Desktop/4.2017.csv\")\n",
    "df4 = pd.read_csv(\"/Users/yaminirege/Desktop/5.2018.csv\")\n",
    "df5 = pd.read_csv(\"/Users/yaminirege/Desktop/6.2019.csv\")\n",
    "df6 = pd.read_csv(\"/Users/yaminirege/Desktop/7.2020.csv\")\n"
   ]
  },
  {
   "cell_type": "code",
   "execution_count": 4,
   "id": "797750d4",
   "metadata": {},
   "outputs": [
    {
     "data": {
      "text/html": [
       "<div>\n",
       "<style scoped>\n",
       "    .dataframe tbody tr th:only-of-type {\n",
       "        vertical-align: middle;\n",
       "    }\n",
       "\n",
       "    .dataframe tbody tr th {\n",
       "        vertical-align: top;\n",
       "    }\n",
       "\n",
       "    .dataframe thead th {\n",
       "        text-align: right;\n",
       "    }\n",
       "</style>\n",
       "<table border=\"1\" class=\"dataframe\">\n",
       "  <thead>\n",
       "    <tr style=\"text-align: right;\">\n",
       "      <th></th>\n",
       "      <th>ID</th>\n",
       "      <th>Terms</th>\n",
       "      <th>Class (BOT)</th>\n",
       "      <th>Major</th>\n",
       "      <th>Conc</th>\n",
       "      <th>Coop</th>\n",
       "      <th>Citizenship</th>\n",
       "      <th>Strengths</th>\n",
       "      <th>Weakness</th>\n",
       "      <th>Acad</th>\n",
       "      <th>Merged1</th>\n",
       "    </tr>\n",
       "  </thead>\n",
       "  <tbody>\n",
       "    <tr>\n",
       "      <th>0</th>\n",
       "      <td>6</td>\n",
       "      <td>201435-201445</td>\n",
       "      <td>SR</td>\n",
       "      <td>ACCT</td>\n",
       "      <td>4COP</td>\n",
       "      <td>0</td>\n",
       "      <td>US Citizen</td>\n",
       "      <td>[Student's] strengths include the ability to m...</td>\n",
       "      <td>In the time that I worked with [Student] - the...</td>\n",
       "      <td>None</td>\n",
       "      <td>[Student's] strengths include the ability to m...</td>\n",
       "    </tr>\n",
       "    <tr>\n",
       "      <th>1</th>\n",
       "      <td>11</td>\n",
       "      <td>201415-201425</td>\n",
       "      <td>JR</td>\n",
       "      <td>FIN</td>\n",
       "      <td>4COP</td>\n",
       "      <td>0</td>\n",
       "      <td>US Citizen</td>\n",
       "      <td>Demonstrates knowledge in compiling and analyz...</td>\n",
       "      <td>Improvement needed in areas of following proto...</td>\n",
       "      <td>Student needs a strong role model to help him ...</td>\n",
       "      <td>Demonstrates knowledge in compiling and analyz...</td>\n",
       "    </tr>\n",
       "    <tr>\n",
       "      <th>2</th>\n",
       "      <td>25</td>\n",
       "      <td>201435-201445</td>\n",
       "      <td>JR</td>\n",
       "      <td>GBUS</td>\n",
       "      <td>4COP</td>\n",
       "      <td>0</td>\n",
       "      <td>US Citizen</td>\n",
       "      <td>[Student] is detail-oriented, customer-focused...</td>\n",
       "      <td>Opportunity exists for [Student] to know his a...</td>\n",
       "      <td>Training or a course on Corporate Communicatio...</td>\n",
       "      <td>[Student] is detail-oriented, customer-focused...</td>\n",
       "    </tr>\n",
       "    <tr>\n",
       "      <th>3</th>\n",
       "      <td>37</td>\n",
       "      <td>201435-201445</td>\n",
       "      <td>SR</td>\n",
       "      <td>LGST</td>\n",
       "      <td>5COP</td>\n",
       "      <td>2</td>\n",
       "      <td>US Citizen</td>\n",
       "      <td>Excellent attention to detail and work ethic. ...</td>\n",
       "      <td>Communicating issues in a simple concise manne...</td>\n",
       "      <td>None</td>\n",
       "      <td>Excellent attention to detail and work ethic. ...</td>\n",
       "    </tr>\n",
       "    <tr>\n",
       "      <th>4</th>\n",
       "      <td>44</td>\n",
       "      <td>201435-201445</td>\n",
       "      <td>SO</td>\n",
       "      <td>BAE</td>\n",
       "      <td>5COP</td>\n",
       "      <td>1</td>\n",
       "      <td>US Citizen</td>\n",
       "      <td>Communication skills, leadership, lead by example</td>\n",
       "      <td>late on occasion</td>\n",
       "      <td>None</td>\n",
       "      <td>Communication skills, leadership, lead by exam...</td>\n",
       "    </tr>\n",
       "  </tbody>\n",
       "</table>\n",
       "</div>"
      ],
      "text/plain": [
       "   ID          Terms Class (BOT) Major  Conc  Coop Citizenship  \\\n",
       "0   6  201435-201445          SR  ACCT  4COP     0  US Citizen   \n",
       "1  11  201415-201425          JR   FIN  4COP     0  US Citizen   \n",
       "2  25  201435-201445          JR  GBUS  4COP     0  US Citizen   \n",
       "3  37  201435-201445          SR  LGST  5COP     2  US Citizen   \n",
       "4  44  201435-201445          SO   BAE  5COP     1  US Citizen   \n",
       "\n",
       "                                           Strengths  \\\n",
       "0  [Student's] strengths include the ability to m...   \n",
       "1  Demonstrates knowledge in compiling and analyz...   \n",
       "2  [Student] is detail-oriented, customer-focused...   \n",
       "3  Excellent attention to detail and work ethic. ...   \n",
       "4  Communication skills, leadership, lead by example   \n",
       "\n",
       "                                            Weakness  \\\n",
       "0  In the time that I worked with [Student] - the...   \n",
       "1  Improvement needed in areas of following proto...   \n",
       "2  Opportunity exists for [Student] to know his a...   \n",
       "3  Communicating issues in a simple concise manne...   \n",
       "4                                   late on occasion   \n",
       "\n",
       "                                                Acad  \\\n",
       "0                                               None   \n",
       "1  Student needs a strong role model to help him ...   \n",
       "2  Training or a course on Corporate Communicatio...   \n",
       "3                                               None   \n",
       "4                                               None   \n",
       "\n",
       "                                             Merged1  \n",
       "0  [Student's] strengths include the ability to m...  \n",
       "1  Demonstrates knowledge in compiling and analyz...  \n",
       "2  [Student] is detail-oriented, customer-focused...  \n",
       "3  Excellent attention to detail and work ethic. ...  \n",
       "4  Communication skills, leadership, lead by exam...  "
      ]
     },
     "execution_count": 4,
     "metadata": {},
     "output_type": "execute_result"
    }
   ],
   "source": [
    "df0.head()"
   ]
  },
  {
   "cell_type": "code",
   "execution_count": 5,
   "id": "0b1b9e09",
   "metadata": {},
   "outputs": [
    {
     "name": "stdout",
     "output_type": "stream",
     "text": [
      "(767, 11)\n",
      "(622, 11)\n",
      "(616, 11)\n",
      "(657, 11)\n",
      "(326, 11)\n",
      "(574, 11)\n",
      "(705, 11)\n"
     ]
    }
   ],
   "source": [
    "print(df0.shape)\n",
    "print(df1.shape)\n",
    "print(df2.shape)\n",
    "print(df3.shape)\n",
    "print(df4.shape)\n",
    "print(df5.shape)\n",
    "print(df6.shape)\n"
   ]
  },
  {
   "cell_type": "code",
   "execution_count": 6,
   "id": "4fe75d40",
   "metadata": {},
   "outputs": [],
   "source": [
    "#VADER Sentiment Scoring\n",
    "\n",
    "from nltk.sentiment import SentimentIntensityAnalyzer\n",
    "from tqdm.notebook import tqdm\n",
    "\n",
    "sia = SentimentIntensityAnalyzer()"
   ]
  },
  {
   "cell_type": "code",
   "execution_count": 7,
   "id": "be9771bd",
   "metadata": {},
   "outputs": [
    {
     "data": {
      "application/vnd.jupyter.widget-view+json": {
       "model_id": "0cc7407c7fad45e3b485ef2ae91dcaa2",
       "version_major": 2,
       "version_minor": 0
      },
      "text/plain": [
       "  0%|          | 0/767 [00:00<?, ?it/s]"
      ]
     },
     "metadata": {},
     "output_type": "display_data"
    }
   ],
   "source": [
    "# Run the polarity score on the entire dataset 2014\n",
    "res0 = {}\n",
    "for i, row in tqdm(df0.iterrows(), total=len(df0)):\n",
    "    text0 = row['Merged1']\n",
    "    myid0 = row['ID']\n",
    "    res0[myid0] = sia.polarity_scores(text0)"
   ]
  },
  {
   "cell_type": "code",
   "execution_count": 8,
   "id": "3e378390",
   "metadata": {},
   "outputs": [
    {
     "data": {
      "application/vnd.jupyter.widget-view+json": {
       "model_id": "f84ac4fd34614948baa8925bf3215f80",
       "version_major": 2,
       "version_minor": 0
      },
      "text/plain": [
       "  0%|          | 0/622 [00:00<?, ?it/s]"
      ]
     },
     "metadata": {},
     "output_type": "display_data"
    }
   ],
   "source": [
    "# Run the polarity score on the entire dataset 2015\n",
    "res1 = {}\n",
    "for i, row in tqdm(df1.iterrows(), total=len(df1)):\n",
    "    text1 = row['Merged']\n",
    "    myid1 = row['Responder ID']\n",
    "    res1[myid1] = sia.polarity_scores(text1)"
   ]
  },
  {
   "cell_type": "code",
   "execution_count": 9,
   "id": "1141ce4a",
   "metadata": {},
   "outputs": [
    {
     "data": {
      "application/vnd.jupyter.widget-view+json": {
       "model_id": "2d2da69e83af403eb206fa9f73a04768",
       "version_major": 2,
       "version_minor": 0
      },
      "text/plain": [
       "  0%|          | 0/616 [00:00<?, ?it/s]"
      ]
     },
     "metadata": {},
     "output_type": "display_data"
    }
   ],
   "source": [
    "# Run the polarity score on the entire dataset 2016\n",
    "res2 = {}\n",
    "for i, row in tqdm(df2.iterrows(), total=len(df2)):\n",
    "    text2 = row['Merged']\n",
    "    myid2 = row['Responder ID']\n",
    "    res2[myid2] = sia.polarity_scores(text2)"
   ]
  },
  {
   "cell_type": "code",
   "execution_count": 10,
   "id": "635f6979",
   "metadata": {},
   "outputs": [
    {
     "data": {
      "application/vnd.jupyter.widget-view+json": {
       "model_id": "da032fcaa1df4390912949f03f3b7ae9",
       "version_major": 2,
       "version_minor": 0
      },
      "text/plain": [
       "  0%|          | 0/657 [00:00<?, ?it/s]"
      ]
     },
     "metadata": {},
     "output_type": "display_data"
    }
   ],
   "source": [
    "# Run the polarity score on the entire dataset 2017\n",
    "res3 = {}\n",
    "for i, row in tqdm(df3.iterrows(), total=len(df3)):\n",
    "    text3 = row['Merged']\n",
    "    myid3 = row['Responder ID']\n",
    "    res3[myid3] = sia.polarity_scores(text3)"
   ]
  },
  {
   "cell_type": "code",
   "execution_count": 11,
   "id": "f7771632",
   "metadata": {},
   "outputs": [
    {
     "data": {
      "application/vnd.jupyter.widget-view+json": {
       "model_id": "409cfc84d045457badb87d115fe992bd",
       "version_major": 2,
       "version_minor": 0
      },
      "text/plain": [
       "  0%|          | 0/326 [00:00<?, ?it/s]"
      ]
     },
     "metadata": {},
     "output_type": "display_data"
    }
   ],
   "source": [
    "# Run the polarity score on the entire dataset 2018\n",
    "res4 = {}\n",
    "for i, row in tqdm(df4.iterrows(), total=len(df4)):\n",
    "    text4 = row['Merged']\n",
    "    myid4 = row['Responder ID']\n",
    "    res4[myid4] = sia.polarity_scores(text4)"
   ]
  },
  {
   "cell_type": "code",
   "execution_count": 12,
   "id": "fdc95503",
   "metadata": {},
   "outputs": [
    {
     "data": {
      "application/vnd.jupyter.widget-view+json": {
       "model_id": "338303f2bd5e4e508d0d2971a5b95ada",
       "version_major": 2,
       "version_minor": 0
      },
      "text/plain": [
       "  0%|          | 0/574 [00:00<?, ?it/s]"
      ]
     },
     "metadata": {},
     "output_type": "display_data"
    }
   ],
   "source": [
    "# Run the polarity score on the entire dataset 2019\n",
    "res5 = {}\n",
    "for i, row in tqdm(df5.iterrows(), total=len(df5)):\n",
    "    text5 = row['Merged']\n",
    "    myid5 = row['Responder ID']\n",
    "    res5[myid5] = sia.polarity_scores(text5)"
   ]
  },
  {
   "cell_type": "code",
   "execution_count": 13,
   "id": "16dcffec",
   "metadata": {},
   "outputs": [
    {
     "data": {
      "application/vnd.jupyter.widget-view+json": {
       "model_id": "0de24e47c2c94a4ea46d8190865fb030",
       "version_major": 2,
       "version_minor": 0
      },
      "text/plain": [
       "  0%|          | 0/705 [00:00<?, ?it/s]"
      ]
     },
     "metadata": {},
     "output_type": "display_data"
    }
   ],
   "source": [
    "# Run the polarity score on the entire dataset 2020\n",
    "res6 = {}\n",
    "for i, row in tqdm(df6.iterrows(), total=len(df6)):\n",
    "    text6 = row['merged']\n",
    "    myid6 = row['Responder ID']\n",
    "    res6[myid6] = sia.polarity_scores(text6)"
   ]
  },
  {
   "cell_type": "code",
   "execution_count": 14,
   "id": "7a5e85bf",
   "metadata": {},
   "outputs": [],
   "source": [
    "vaders0 = pd.DataFrame(res0).T\n",
    "vaders0 = vaders0.reset_index().rename(columns={'index': 'ID'})\n",
    "vaders0 = vaders0.merge(df0, how='left')"
   ]
  },
  {
   "cell_type": "code",
   "execution_count": 15,
   "id": "f5990f9a",
   "metadata": {},
   "outputs": [
    {
     "data": {
      "text/html": [
       "<div>\n",
       "<style scoped>\n",
       "    .dataframe tbody tr th:only-of-type {\n",
       "        vertical-align: middle;\n",
       "    }\n",
       "\n",
       "    .dataframe tbody tr th {\n",
       "        vertical-align: top;\n",
       "    }\n",
       "\n",
       "    .dataframe thead th {\n",
       "        text-align: right;\n",
       "    }\n",
       "</style>\n",
       "<table border=\"1\" class=\"dataframe\">\n",
       "  <thead>\n",
       "    <tr style=\"text-align: right;\">\n",
       "      <th></th>\n",
       "      <th>ID</th>\n",
       "      <th>neg</th>\n",
       "      <th>neu</th>\n",
       "      <th>pos</th>\n",
       "      <th>compound</th>\n",
       "      <th>Terms</th>\n",
       "      <th>Class (BOT)</th>\n",
       "      <th>Major</th>\n",
       "      <th>Conc</th>\n",
       "      <th>Coop</th>\n",
       "      <th>Citizenship</th>\n",
       "      <th>Strengths</th>\n",
       "      <th>Weakness</th>\n",
       "      <th>Acad</th>\n",
       "      <th>Merged1</th>\n",
       "    </tr>\n",
       "  </thead>\n",
       "  <tbody>\n",
       "    <tr>\n",
       "      <th>0</th>\n",
       "      <td>6</td>\n",
       "      <td>0.0</td>\n",
       "      <td>0.853</td>\n",
       "      <td>0.147</td>\n",
       "      <td>0.8934</td>\n",
       "      <td>201435-201445</td>\n",
       "      <td>SR</td>\n",
       "      <td>ACCT</td>\n",
       "      <td>4COP</td>\n",
       "      <td>0</td>\n",
       "      <td>US Citizen</td>\n",
       "      <td>[Student's] strengths include the ability to m...</td>\n",
       "      <td>In the time that I worked with [Student] - the...</td>\n",
       "      <td>None</td>\n",
       "      <td>[Student's] strengths include the ability to m...</td>\n",
       "    </tr>\n",
       "    <tr>\n",
       "      <th>1</th>\n",
       "      <td>11</td>\n",
       "      <td>0.0</td>\n",
       "      <td>0.773</td>\n",
       "      <td>0.227</td>\n",
       "      <td>0.8555</td>\n",
       "      <td>201415-201425</td>\n",
       "      <td>JR</td>\n",
       "      <td>FIN</td>\n",
       "      <td>4COP</td>\n",
       "      <td>0</td>\n",
       "      <td>US Citizen</td>\n",
       "      <td>Demonstrates knowledge in compiling and analyz...</td>\n",
       "      <td>Improvement needed in areas of following proto...</td>\n",
       "      <td>Student needs a strong role model to help him ...</td>\n",
       "      <td>Demonstrates knowledge in compiling and analyz...</td>\n",
       "    </tr>\n",
       "    <tr>\n",
       "      <th>2</th>\n",
       "      <td>25</td>\n",
       "      <td>0.0</td>\n",
       "      <td>0.852</td>\n",
       "      <td>0.148</td>\n",
       "      <td>0.5719</td>\n",
       "      <td>201435-201445</td>\n",
       "      <td>JR</td>\n",
       "      <td>GBUS</td>\n",
       "      <td>4COP</td>\n",
       "      <td>0</td>\n",
       "      <td>US Citizen</td>\n",
       "      <td>[Student] is detail-oriented, customer-focused...</td>\n",
       "      <td>Opportunity exists for [Student] to know his a...</td>\n",
       "      <td>Training or a course on Corporate Communicatio...</td>\n",
       "      <td>[Student] is detail-oriented, customer-focused...</td>\n",
       "    </tr>\n",
       "    <tr>\n",
       "      <th>3</th>\n",
       "      <td>37</td>\n",
       "      <td>0.0</td>\n",
       "      <td>0.711</td>\n",
       "      <td>0.289</td>\n",
       "      <td>0.9538</td>\n",
       "      <td>201435-201445</td>\n",
       "      <td>SR</td>\n",
       "      <td>LGST</td>\n",
       "      <td>5COP</td>\n",
       "      <td>2</td>\n",
       "      <td>US Citizen</td>\n",
       "      <td>Excellent attention to detail and work ethic. ...</td>\n",
       "      <td>Communicating issues in a simple concise manne...</td>\n",
       "      <td>None</td>\n",
       "      <td>Excellent attention to detail and work ethic. ...</td>\n",
       "    </tr>\n",
       "    <tr>\n",
       "      <th>4</th>\n",
       "      <td>44</td>\n",
       "      <td>0.0</td>\n",
       "      <td>1.000</td>\n",
       "      <td>0.000</td>\n",
       "      <td>0.0000</td>\n",
       "      <td>201435-201445</td>\n",
       "      <td>SO</td>\n",
       "      <td>BAE</td>\n",
       "      <td>5COP</td>\n",
       "      <td>1</td>\n",
       "      <td>US Citizen</td>\n",
       "      <td>Communication skills, leadership, lead by example</td>\n",
       "      <td>late on occasion</td>\n",
       "      <td>None</td>\n",
       "      <td>Communication skills, leadership, lead by exam...</td>\n",
       "    </tr>\n",
       "  </tbody>\n",
       "</table>\n",
       "</div>"
      ],
      "text/plain": [
       "   ID  neg    neu    pos  compound          Terms Class (BOT) Major  Conc  \\\n",
       "0   6  0.0  0.853  0.147    0.8934  201435-201445          SR  ACCT  4COP   \n",
       "1  11  0.0  0.773  0.227    0.8555  201415-201425          JR   FIN  4COP   \n",
       "2  25  0.0  0.852  0.148    0.5719  201435-201445          JR  GBUS  4COP   \n",
       "3  37  0.0  0.711  0.289    0.9538  201435-201445          SR  LGST  5COP   \n",
       "4  44  0.0  1.000  0.000    0.0000  201435-201445          SO   BAE  5COP   \n",
       "\n",
       "   Coop Citizenship                                          Strengths  \\\n",
       "0     0  US Citizen  [Student's] strengths include the ability to m...   \n",
       "1     0  US Citizen  Demonstrates knowledge in compiling and analyz...   \n",
       "2     0  US Citizen  [Student] is detail-oriented, customer-focused...   \n",
       "3     2  US Citizen  Excellent attention to detail and work ethic. ...   \n",
       "4     1  US Citizen  Communication skills, leadership, lead by example   \n",
       "\n",
       "                                            Weakness  \\\n",
       "0  In the time that I worked with [Student] - the...   \n",
       "1  Improvement needed in areas of following proto...   \n",
       "2  Opportunity exists for [Student] to know his a...   \n",
       "3  Communicating issues in a simple concise manne...   \n",
       "4                                   late on occasion   \n",
       "\n",
       "                                                Acad  \\\n",
       "0                                               None   \n",
       "1  Student needs a strong role model to help him ...   \n",
       "2  Training or a course on Corporate Communicatio...   \n",
       "3                                               None   \n",
       "4                                               None   \n",
       "\n",
       "                                             Merged1  \n",
       "0  [Student's] strengths include the ability to m...  \n",
       "1  Demonstrates knowledge in compiling and analyz...  \n",
       "2  [Student] is detail-oriented, customer-focused...  \n",
       "3  Excellent attention to detail and work ethic. ...  \n",
       "4  Communication skills, leadership, lead by exam...  "
      ]
     },
     "execution_count": 15,
     "metadata": {},
     "output_type": "execute_result"
    }
   ],
   "source": [
    "#2014\n",
    "vaders0.head()"
   ]
  },
  {
   "cell_type": "code",
   "execution_count": 16,
   "id": "6b9c79fe",
   "metadata": {},
   "outputs": [],
   "source": [
    "#2015\n",
    "vaders1 = pd.DataFrame(res1).T\n",
    "vaders1 = vaders1.reset_index().rename(columns={'index': 'Responder ID'})\n",
    "vaders1 = vaders1.merge(df1, how='left')"
   ]
  },
  {
   "cell_type": "code",
   "execution_count": 17,
   "id": "33591de3",
   "metadata": {},
   "outputs": [
    {
     "data": {
      "text/html": [
       "<div>\n",
       "<style scoped>\n",
       "    .dataframe tbody tr th:only-of-type {\n",
       "        vertical-align: middle;\n",
       "    }\n",
       "\n",
       "    .dataframe tbody tr th {\n",
       "        vertical-align: top;\n",
       "    }\n",
       "\n",
       "    .dataframe thead th {\n",
       "        text-align: right;\n",
       "    }\n",
       "</style>\n",
       "<table border=\"1\" class=\"dataframe\">\n",
       "  <thead>\n",
       "    <tr style=\"text-align: right;\">\n",
       "      <th></th>\n",
       "      <th>Responder ID</th>\n",
       "      <th>neg</th>\n",
       "      <th>neu</th>\n",
       "      <th>pos</th>\n",
       "      <th>compound</th>\n",
       "      <th>Terms</th>\n",
       "      <th>Major</th>\n",
       "      <th>Conc</th>\n",
       "      <th>Class</th>\n",
       "      <th>Citizenship</th>\n",
       "      <th>Coop</th>\n",
       "      <th>Strengths</th>\n",
       "      <th>Weakness</th>\n",
       "      <th>Acad</th>\n",
       "      <th>Merged</th>\n",
       "    </tr>\n",
       "  </thead>\n",
       "  <tbody>\n",
       "    <tr>\n",
       "      <th>0</th>\n",
       "      <td>2408</td>\n",
       "      <td>0.000</td>\n",
       "      <td>0.949</td>\n",
       "      <td>0.051</td>\n",
       "      <td>0.0772</td>\n",
       "      <td>201535-201545</td>\n",
       "      <td>FIN</td>\n",
       "      <td>5COP</td>\n",
       "      <td>SR</td>\n",
       "      <td>Non US Citizen</td>\n",
       "      <td>3</td>\n",
       "      <td>His dedication to understanding the material ...</td>\n",
       "      <td>He should be more communicative with managers ...</td>\n",
       "      <td>More accounting course work.</td>\n",
       "      <td>His dedication to understanding the material ...</td>\n",
       "    </tr>\n",
       "    <tr>\n",
       "      <th>1</th>\n",
       "      <td>63</td>\n",
       "      <td>0.023</td>\n",
       "      <td>0.943</td>\n",
       "      <td>0.034</td>\n",
       "      <td>0.2023</td>\n",
       "      <td>201515-201525</td>\n",
       "      <td>ACCT</td>\n",
       "      <td>4COP</td>\n",
       "      <td>SR</td>\n",
       "      <td>US Citizen</td>\n",
       "      <td>0</td>\n",
       "      <td>Rita was very professional in her involvement ...</td>\n",
       "      <td>Rita would sometimes overwhelm herself with ta...</td>\n",
       "      <td>None</td>\n",
       "      <td>Rita was very professional in her involvement ...</td>\n",
       "    </tr>\n",
       "    <tr>\n",
       "      <th>2</th>\n",
       "      <td>71</td>\n",
       "      <td>0.000</td>\n",
       "      <td>0.753</td>\n",
       "      <td>0.247</td>\n",
       "      <td>0.7096</td>\n",
       "      <td>201515-201525</td>\n",
       "      <td>MIS</td>\n",
       "      <td>4COP</td>\n",
       "      <td>JR</td>\n",
       "      <td>Resident Alien Non-Citizen</td>\n",
       "      <td>0</td>\n",
       "      <td>Provieding feedback and following up on tasks....</td>\n",
       "      <td>attendance needs improving. Verbal communicati...</td>\n",
       "      <td>None</td>\n",
       "      <td>Provieding feedback and following up on tasks....</td>\n",
       "    </tr>\n",
       "    <tr>\n",
       "      <th>3</th>\n",
       "      <td>2432</td>\n",
       "      <td>0.000</td>\n",
       "      <td>0.747</td>\n",
       "      <td>0.253</td>\n",
       "      <td>0.7783</td>\n",
       "      <td>201535-201545</td>\n",
       "      <td>BAE</td>\n",
       "      <td>5COP</td>\n",
       "      <td>PJ</td>\n",
       "      <td>US Citizen</td>\n",
       "      <td>2</td>\n",
       "      <td>1) Maturity\\r\\n2) Self starter and ability to ...</td>\n",
       "      <td>1)  Interpersonal relationships and communicat...</td>\n",
       "      <td>None</td>\n",
       "      <td>1) Maturity\\r\\n2) Self starter and ability to ...</td>\n",
       "    </tr>\n",
       "    <tr>\n",
       "      <th>4</th>\n",
       "      <td>78</td>\n",
       "      <td>0.018</td>\n",
       "      <td>0.752</td>\n",
       "      <td>0.230</td>\n",
       "      <td>0.9662</td>\n",
       "      <td>201515-201525</td>\n",
       "      <td>ACCT</td>\n",
       "      <td>5COP</td>\n",
       "      <td>SR</td>\n",
       "      <td>US Citizen</td>\n",
       "      <td>3</td>\n",
       "      <td>Chris quickly grasped difficult concepts perta...</td>\n",
       "      <td>I would suggest that Chris be mindful to consi...</td>\n",
       "      <td>None</td>\n",
       "      <td>Chris quickly grasped difficult concepts perta...</td>\n",
       "    </tr>\n",
       "  </tbody>\n",
       "</table>\n",
       "</div>"
      ],
      "text/plain": [
       "   Responder ID    neg    neu    pos  compound          Terms Major  Conc  \\\n",
       "0          2408  0.000  0.949  0.051    0.0772  201535-201545   FIN  5COP   \n",
       "1            63  0.023  0.943  0.034    0.2023  201515-201525  ACCT  4COP   \n",
       "2            71  0.000  0.753  0.247    0.7096  201515-201525   MIS  4COP   \n",
       "3          2432  0.000  0.747  0.253    0.7783  201535-201545   BAE  5COP   \n",
       "4            78  0.018  0.752  0.230    0.9662  201515-201525  ACCT  5COP   \n",
       "\n",
       "  Class                 Citizenship  Coop  \\\n",
       "0    SR              Non US Citizen     3   \n",
       "1    SR                  US Citizen     0   \n",
       "2    JR  Resident Alien Non-Citizen     0   \n",
       "3    PJ                  US Citizen     2   \n",
       "4    SR                  US Citizen     3   \n",
       "\n",
       "                                           Strengths  \\\n",
       "0   His dedication to understanding the material ...   \n",
       "1  Rita was very professional in her involvement ...   \n",
       "2  Provieding feedback and following up on tasks....   \n",
       "3  1) Maturity\\r\\n2) Self starter and ability to ...   \n",
       "4  Chris quickly grasped difficult concepts perta...   \n",
       "\n",
       "                                            Weakness  \\\n",
       "0  He should be more communicative with managers ...   \n",
       "1  Rita would sometimes overwhelm herself with ta...   \n",
       "2  attendance needs improving. Verbal communicati...   \n",
       "3  1)  Interpersonal relationships and communicat...   \n",
       "4  I would suggest that Chris be mindful to consi...   \n",
       "\n",
       "                           Acad  \\\n",
       "0  More accounting course work.   \n",
       "1                          None   \n",
       "2                          None   \n",
       "3                          None   \n",
       "4                          None   \n",
       "\n",
       "                                              Merged  \n",
       "0   His dedication to understanding the material ...  \n",
       "1  Rita was very professional in her involvement ...  \n",
       "2  Provieding feedback and following up on tasks....  \n",
       "3  1) Maturity\\r\\n2) Self starter and ability to ...  \n",
       "4  Chris quickly grasped difficult concepts perta...  "
      ]
     },
     "execution_count": 17,
     "metadata": {},
     "output_type": "execute_result"
    }
   ],
   "source": [
    "vaders1.head()"
   ]
  },
  {
   "cell_type": "code",
   "execution_count": 18,
   "id": "99b0cdda",
   "metadata": {},
   "outputs": [],
   "source": [
    "#2016\n",
    "vaders2 = pd.DataFrame(res2).T\n",
    "vaders2 = vaders2.reset_index().rename(columns={'index': 'Responder ID'})\n",
    "vaders2 = vaders2.merge(df2, how='left')"
   ]
  },
  {
   "cell_type": "code",
   "execution_count": 19,
   "id": "9f41971b",
   "metadata": {},
   "outputs": [
    {
     "data": {
      "text/html": [
       "<div>\n",
       "<style scoped>\n",
       "    .dataframe tbody tr th:only-of-type {\n",
       "        vertical-align: middle;\n",
       "    }\n",
       "\n",
       "    .dataframe tbody tr th {\n",
       "        vertical-align: top;\n",
       "    }\n",
       "\n",
       "    .dataframe thead th {\n",
       "        text-align: right;\n",
       "    }\n",
       "</style>\n",
       "<table border=\"1\" class=\"dataframe\">\n",
       "  <thead>\n",
       "    <tr style=\"text-align: right;\">\n",
       "      <th></th>\n",
       "      <th>Responder ID</th>\n",
       "      <th>neg</th>\n",
       "      <th>neu</th>\n",
       "      <th>pos</th>\n",
       "      <th>compound</th>\n",
       "      <th>Work Terms</th>\n",
       "      <th>Major</th>\n",
       "      <th>Conc</th>\n",
       "      <th>Class</th>\n",
       "      <th>Citizenship</th>\n",
       "      <th>Coop</th>\n",
       "      <th>Strengths</th>\n",
       "      <th>Weakness</th>\n",
       "      <th>Acad</th>\n",
       "      <th>Merged</th>\n",
       "    </tr>\n",
       "  </thead>\n",
       "  <tbody>\n",
       "    <tr>\n",
       "      <th>0</th>\n",
       "      <td>98</td>\n",
       "      <td>0.063</td>\n",
       "      <td>0.852</td>\n",
       "      <td>0.085</td>\n",
       "      <td>0.1618</td>\n",
       "      <td>201615-201625</td>\n",
       "      <td>FIN</td>\n",
       "      <td>5COP</td>\n",
       "      <td>SR</td>\n",
       "      <td>US Citizen</td>\n",
       "      <td>3</td>\n",
       "      <td>Michael was enthusiastic in his responsibiliti...</td>\n",
       "      <td>He was honest in his assessment that this is n...</td>\n",
       "      <td>More math and accounting course work.</td>\n",
       "      <td>Michael was enthusiastic in his responsibiliti...</td>\n",
       "    </tr>\n",
       "    <tr>\n",
       "      <th>1</th>\n",
       "      <td>105</td>\n",
       "      <td>0.000</td>\n",
       "      <td>0.860</td>\n",
       "      <td>0.140</td>\n",
       "      <td>0.8889</td>\n",
       "      <td>201615-201625</td>\n",
       "      <td>ACCT</td>\n",
       "      <td>5COP</td>\n",
       "      <td>SR</td>\n",
       "      <td>US Citizen</td>\n",
       "      <td>3</td>\n",
       "      <td>Andrew added a lot of value to PCM during his ...</td>\n",
       "      <td>Andrew can continue to grow and improve his wr...</td>\n",
       "      <td>Andrew had a great foundation from his classwo...</td>\n",
       "      <td>Andrew added a lot of value to PCM during his ...</td>\n",
       "    </tr>\n",
       "    <tr>\n",
       "      <th>2</th>\n",
       "      <td>148</td>\n",
       "      <td>0.047</td>\n",
       "      <td>0.854</td>\n",
       "      <td>0.099</td>\n",
       "      <td>0.6597</td>\n",
       "      <td>201615-201625</td>\n",
       "      <td>GBUS</td>\n",
       "      <td>5COP</td>\n",
       "      <td>JR</td>\n",
       "      <td>US Citizen</td>\n",
       "      <td>3</td>\n",
       "      <td>Nick got along well with other co-ops and was ...</td>\n",
       "      <td>Nick showed little initiative to learn or grow...</td>\n",
       "      <td>I don't think any poor performance is due to l...</td>\n",
       "      <td>Nick got along well with other co-ops and was ...</td>\n",
       "    </tr>\n",
       "    <tr>\n",
       "      <th>3</th>\n",
       "      <td>159</td>\n",
       "      <td>0.051</td>\n",
       "      <td>0.866</td>\n",
       "      <td>0.083</td>\n",
       "      <td>0.8660</td>\n",
       "      <td>201615-201625</td>\n",
       "      <td>FIN</td>\n",
       "      <td>5COP</td>\n",
       "      <td>SR</td>\n",
       "      <td>US Citizen</td>\n",
       "      <td>3</td>\n",
       "      <td>Dave is an incredibly hard worker, and stays m...</td>\n",
       "      <td>Sometimes the quality of Dave's products suffe...</td>\n",
       "      <td>None</td>\n",
       "      <td>Dave is an incredibly hard worker, and stays m...</td>\n",
       "    </tr>\n",
       "    <tr>\n",
       "      <th>4</th>\n",
       "      <td>181</td>\n",
       "      <td>0.000</td>\n",
       "      <td>0.869</td>\n",
       "      <td>0.131</td>\n",
       "      <td>0.8360</td>\n",
       "      <td>201615-201625</td>\n",
       "      <td>MKTG</td>\n",
       "      <td>5COP</td>\n",
       "      <td>JR</td>\n",
       "      <td>US Citizen</td>\n",
       "      <td>3</td>\n",
       "      <td>Lauren has a fantastic ability to take what sh...</td>\n",
       "      <td>An area of improvement for Lauren is to take t...</td>\n",
       "      <td>None</td>\n",
       "      <td>Lauren has a fantastic ability to take what sh...</td>\n",
       "    </tr>\n",
       "  </tbody>\n",
       "</table>\n",
       "</div>"
      ],
      "text/plain": [
       "   Responder ID    neg    neu    pos  compound     Work Terms Major  Conc  \\\n",
       "0            98  0.063  0.852  0.085    0.1618  201615-201625   FIN  5COP   \n",
       "1           105  0.000  0.860  0.140    0.8889  201615-201625  ACCT  5COP   \n",
       "2           148  0.047  0.854  0.099    0.6597  201615-201625  GBUS  5COP   \n",
       "3           159  0.051  0.866  0.083    0.8660  201615-201625   FIN  5COP   \n",
       "4           181  0.000  0.869  0.131    0.8360  201615-201625  MKTG  5COP   \n",
       "\n",
       "  Class Citizenship  Coop                                          Strengths  \\\n",
       "0    SR  US Citizen     3  Michael was enthusiastic in his responsibiliti...   \n",
       "1    SR  US Citizen     3  Andrew added a lot of value to PCM during his ...   \n",
       "2    JR  US Citizen     3  Nick got along well with other co-ops and was ...   \n",
       "3    SR  US Citizen     3  Dave is an incredibly hard worker, and stays m...   \n",
       "4    JR  US Citizen     3  Lauren has a fantastic ability to take what sh...   \n",
       "\n",
       "                                            Weakness  \\\n",
       "0  He was honest in his assessment that this is n...   \n",
       "1  Andrew can continue to grow and improve his wr...   \n",
       "2  Nick showed little initiative to learn or grow...   \n",
       "3  Sometimes the quality of Dave's products suffe...   \n",
       "4  An area of improvement for Lauren is to take t...   \n",
       "\n",
       "                                                Acad  \\\n",
       "0              More math and accounting course work.   \n",
       "1  Andrew had a great foundation from his classwo...   \n",
       "2  I don't think any poor performance is due to l...   \n",
       "3                                               None   \n",
       "4                                               None   \n",
       "\n",
       "                                              Merged  \n",
       "0  Michael was enthusiastic in his responsibiliti...  \n",
       "1  Andrew added a lot of value to PCM during his ...  \n",
       "2  Nick got along well with other co-ops and was ...  \n",
       "3  Dave is an incredibly hard worker, and stays m...  \n",
       "4  Lauren has a fantastic ability to take what sh...  "
      ]
     },
     "execution_count": 19,
     "metadata": {},
     "output_type": "execute_result"
    }
   ],
   "source": [
    "vaders2.head()"
   ]
  },
  {
   "cell_type": "code",
   "execution_count": 20,
   "id": "79802e09",
   "metadata": {},
   "outputs": [],
   "source": [
    "#2017\n",
    "vaders3 = pd.DataFrame(res3).T\n",
    "vaders3 = vaders3.reset_index().rename(columns={'index': 'Responder ID'})\n",
    "vaders3 = vaders3.merge(df3, how='left')"
   ]
  },
  {
   "cell_type": "code",
   "execution_count": 21,
   "id": "4b413b87",
   "metadata": {},
   "outputs": [
    {
     "data": {
      "text/html": [
       "<div>\n",
       "<style scoped>\n",
       "    .dataframe tbody tr th:only-of-type {\n",
       "        vertical-align: middle;\n",
       "    }\n",
       "\n",
       "    .dataframe tbody tr th {\n",
       "        vertical-align: top;\n",
       "    }\n",
       "\n",
       "    .dataframe thead th {\n",
       "        text-align: right;\n",
       "    }\n",
       "</style>\n",
       "<table border=\"1\" class=\"dataframe\">\n",
       "  <thead>\n",
       "    <tr style=\"text-align: right;\">\n",
       "      <th></th>\n",
       "      <th>Responder ID</th>\n",
       "      <th>neg</th>\n",
       "      <th>neu</th>\n",
       "      <th>pos</th>\n",
       "      <th>compound</th>\n",
       "      <th>Work Terms</th>\n",
       "      <th>Major</th>\n",
       "      <th>Concentration</th>\n",
       "      <th>Class</th>\n",
       "      <th>Citizenship</th>\n",
       "      <th>Coop</th>\n",
       "      <th>Strengths</th>\n",
       "      <th>Weakness</th>\n",
       "      <th>Acad</th>\n",
       "      <th>Merged</th>\n",
       "    </tr>\n",
       "  </thead>\n",
       "  <tbody>\n",
       "    <tr>\n",
       "      <th>0</th>\n",
       "      <td>391</td>\n",
       "      <td>0.031</td>\n",
       "      <td>0.736</td>\n",
       "      <td>0.233</td>\n",
       "      <td>0.9678</td>\n",
       "      <td>201715-201725</td>\n",
       "      <td>FIN</td>\n",
       "      <td>5COP</td>\n",
       "      <td>SO</td>\n",
       "      <td>US Citizen</td>\n",
       "      <td>1</td>\n",
       "      <td>Over the course of Sachin's co-op he demonstra...</td>\n",
       "      <td>Sachin struggled with multi-tasking and time m...</td>\n",
       "      <td>His performance was relatively static--we did ...</td>\n",
       "      <td>Over the course of Sachin's co-op he demonstra...</td>\n",
       "    </tr>\n",
       "    <tr>\n",
       "      <th>1</th>\n",
       "      <td>1465</td>\n",
       "      <td>0.036</td>\n",
       "      <td>0.733</td>\n",
       "      <td>0.231</td>\n",
       "      <td>0.9118</td>\n",
       "      <td>201715-201725</td>\n",
       "      <td>FIN</td>\n",
       "      <td>5COP</td>\n",
       "      <td>JR</td>\n",
       "      <td>US Citizen</td>\n",
       "      <td>3</td>\n",
       "      <td>Steve is very dependable and was able to work ...</td>\n",
       "      <td>Steve is young but he should not be afraid of ...</td>\n",
       "      <td>None</td>\n",
       "      <td>Steve is very dependable and was able to work ...</td>\n",
       "    </tr>\n",
       "    <tr>\n",
       "      <th>2</th>\n",
       "      <td>1476</td>\n",
       "      <td>0.000</td>\n",
       "      <td>0.837</td>\n",
       "      <td>0.163</td>\n",
       "      <td>0.8266</td>\n",
       "      <td>201715-201725</td>\n",
       "      <td>OSCM</td>\n",
       "      <td>5COP</td>\n",
       "      <td>JR</td>\n",
       "      <td>US Citizen</td>\n",
       "      <td>3</td>\n",
       "      <td>Taniya has been a great asset to the team. She...</td>\n",
       "      <td>Taniya can look to perhaps be a little more as...</td>\n",
       "      <td>None</td>\n",
       "      <td>Taniya has been a great asset to the team. She...</td>\n",
       "    </tr>\n",
       "    <tr>\n",
       "      <th>3</th>\n",
       "      <td>393</td>\n",
       "      <td>0.000</td>\n",
       "      <td>0.485</td>\n",
       "      <td>0.515</td>\n",
       "      <td>0.8625</td>\n",
       "      <td>201715-201725</td>\n",
       "      <td>LGST</td>\n",
       "      <td>4COP</td>\n",
       "      <td>PJ</td>\n",
       "      <td>US Citizen</td>\n",
       "      <td>0</td>\n",
       "      <td>mature, pleasant interaction with FAIMER staff...</td>\n",
       "      <td>problem solving, productivity</td>\n",
       "      <td>None</td>\n",
       "      <td>mature, pleasant interaction with FAIMER staff...</td>\n",
       "    </tr>\n",
       "    <tr>\n",
       "      <th>4</th>\n",
       "      <td>1484</td>\n",
       "      <td>0.000</td>\n",
       "      <td>0.640</td>\n",
       "      <td>0.360</td>\n",
       "      <td>0.7351</td>\n",
       "      <td>201715-201725</td>\n",
       "      <td>MKTG</td>\n",
       "      <td>5COP</td>\n",
       "      <td>SR</td>\n",
       "      <td>US Citizen</td>\n",
       "      <td>3</td>\n",
       "      <td>Great attitude and willingness to learn</td>\n",
       "      <td>Better development of Root Cause and suggestiv...</td>\n",
       "      <td>None</td>\n",
       "      <td>Great attitude and willingness to learnBetter ...</td>\n",
       "    </tr>\n",
       "  </tbody>\n",
       "</table>\n",
       "</div>"
      ],
      "text/plain": [
       "   Responder ID    neg    neu    pos  compound     Work Terms Major  \\\n",
       "0           391  0.031  0.736  0.233    0.9678  201715-201725   FIN   \n",
       "1          1465  0.036  0.733  0.231    0.9118  201715-201725   FIN   \n",
       "2          1476  0.000  0.837  0.163    0.8266  201715-201725  OSCM   \n",
       "3           393  0.000  0.485  0.515    0.8625  201715-201725  LGST   \n",
       "4          1484  0.000  0.640  0.360    0.7351  201715-201725  MKTG   \n",
       "\n",
       "  Concentration Class Citizenship   Coop  \\\n",
       "0          5COP    SO   US Citizen     1   \n",
       "1          5COP    JR   US Citizen     3   \n",
       "2          5COP    JR   US Citizen     3   \n",
       "3          4COP    PJ   US Citizen     0   \n",
       "4          5COP    SR   US Citizen     3   \n",
       "\n",
       "                                           Strengths  \\\n",
       "0  Over the course of Sachin's co-op he demonstra...   \n",
       "1  Steve is very dependable and was able to work ...   \n",
       "2  Taniya has been a great asset to the team. She...   \n",
       "3  mature, pleasant interaction with FAIMER staff...   \n",
       "4            Great attitude and willingness to learn   \n",
       "\n",
       "                                            Weakness  \\\n",
       "0  Sachin struggled with multi-tasking and time m...   \n",
       "1  Steve is young but he should not be afraid of ...   \n",
       "2  Taniya can look to perhaps be a little more as...   \n",
       "3                      problem solving, productivity   \n",
       "4  Better development of Root Cause and suggestiv...   \n",
       "\n",
       "                                                Acad  \\\n",
       "0  His performance was relatively static--we did ...   \n",
       "1                                               None   \n",
       "2                                               None   \n",
       "3                                               None   \n",
       "4                                               None   \n",
       "\n",
       "                                              Merged  \n",
       "0  Over the course of Sachin's co-op he demonstra...  \n",
       "1  Steve is very dependable and was able to work ...  \n",
       "2  Taniya has been a great asset to the team. She...  \n",
       "3  mature, pleasant interaction with FAIMER staff...  \n",
       "4  Great attitude and willingness to learnBetter ...  "
      ]
     },
     "execution_count": 21,
     "metadata": {},
     "output_type": "execute_result"
    }
   ],
   "source": [
    "vaders3.head()"
   ]
  },
  {
   "cell_type": "code",
   "execution_count": 22,
   "id": "9aca92c6",
   "metadata": {},
   "outputs": [],
   "source": [
    "#2018\n",
    "vaders4 = pd.DataFrame(res4).T\n",
    "vaders4 = vaders4.reset_index().rename(columns={'index': 'Responder ID'})\n",
    "vaders4 = vaders4.merge(df4, how='left')"
   ]
  },
  {
   "cell_type": "code",
   "execution_count": 23,
   "id": "d6bf0eb9",
   "metadata": {},
   "outputs": [
    {
     "data": {
      "text/html": [
       "<div>\n",
       "<style scoped>\n",
       "    .dataframe tbody tr th:only-of-type {\n",
       "        vertical-align: middle;\n",
       "    }\n",
       "\n",
       "    .dataframe tbody tr th {\n",
       "        vertical-align: top;\n",
       "    }\n",
       "\n",
       "    .dataframe thead th {\n",
       "        text-align: right;\n",
       "    }\n",
       "</style>\n",
       "<table border=\"1\" class=\"dataframe\">\n",
       "  <thead>\n",
       "    <tr style=\"text-align: right;\">\n",
       "      <th></th>\n",
       "      <th>Responder ID</th>\n",
       "      <th>neg</th>\n",
       "      <th>neu</th>\n",
       "      <th>pos</th>\n",
       "      <th>compound</th>\n",
       "      <th>Work Terms</th>\n",
       "      <th>Major</th>\n",
       "      <th>Concentration</th>\n",
       "      <th>Class</th>\n",
       "      <th>Citizenship</th>\n",
       "      <th>Coop</th>\n",
       "      <th>Strengths</th>\n",
       "      <th>Weakness</th>\n",
       "      <th>Acad</th>\n",
       "      <th>Merged</th>\n",
       "    </tr>\n",
       "  </thead>\n",
       "  <tbody>\n",
       "    <tr>\n",
       "      <th>0</th>\n",
       "      <td>427</td>\n",
       "      <td>0.00</td>\n",
       "      <td>0.686</td>\n",
       "      <td>0.314</td>\n",
       "      <td>0.9814</td>\n",
       "      <td>201815-201825</td>\n",
       "      <td>FIN</td>\n",
       "      <td>5COP</td>\n",
       "      <td>PJ</td>\n",
       "      <td>US Citizen</td>\n",
       "      <td>2</td>\n",
       "      <td>Sachin is dedicated to delivering high quality...</td>\n",
       "      <td>Sachin can improve upon his confidence with pu...</td>\n",
       "      <td>None</td>\n",
       "      <td>Sachin is dedicated to delivering high quality...</td>\n",
       "    </tr>\n",
       "    <tr>\n",
       "      <th>1</th>\n",
       "      <td>428</td>\n",
       "      <td>0.00</td>\n",
       "      <td>0.859</td>\n",
       "      <td>0.141</td>\n",
       "      <td>0.5574</td>\n",
       "      <td>201815-201825</td>\n",
       "      <td>FIN</td>\n",
       "      <td>5COP</td>\n",
       "      <td>JR</td>\n",
       "      <td>US Citizen</td>\n",
       "      <td>3</td>\n",
       "      <td>Positive outlook for work and interaction with...</td>\n",
       "      <td>Initiative and overall business / financial ac...</td>\n",
       "      <td>Strengthen his knowledge of matters of corpora...</td>\n",
       "      <td>Positive outlook for work and interaction with...</td>\n",
       "    </tr>\n",
       "    <tr>\n",
       "      <th>2</th>\n",
       "      <td>1648</td>\n",
       "      <td>0.00</td>\n",
       "      <td>0.872</td>\n",
       "      <td>0.128</td>\n",
       "      <td>0.9359</td>\n",
       "      <td>201815-201825</td>\n",
       "      <td>BAE</td>\n",
       "      <td>5COP</td>\n",
       "      <td>SR</td>\n",
       "      <td>US Citizen</td>\n",
       "      <td>3</td>\n",
       "      <td>- Very Bright; Absorbs &amp; understands complicat...</td>\n",
       "      <td>At Midpoint, Frankie was given feedback about ...</td>\n",
       "      <td>None</td>\n",
       "      <td>- Very Bright; Absorbs &amp; understands complicat...</td>\n",
       "    </tr>\n",
       "    <tr>\n",
       "      <th>3</th>\n",
       "      <td>1651</td>\n",
       "      <td>0.00</td>\n",
       "      <td>0.897</td>\n",
       "      <td>0.103</td>\n",
       "      <td>0.3182</td>\n",
       "      <td>201815-201825</td>\n",
       "      <td>INT1</td>\n",
       "      <td>5COP</td>\n",
       "      <td>SR</td>\n",
       "      <td>US Citizen</td>\n",
       "      <td>3</td>\n",
       "      <td>Dedication, teamwork, quality performance, abi...</td>\n",
       "      <td>Reinsurance industry technical knowledge throu...</td>\n",
       "      <td>Continue to take relevant classes and move to ...</td>\n",
       "      <td>Dedication, teamwork, quality performance, abi...</td>\n",
       "    </tr>\n",
       "    <tr>\n",
       "      <th>4</th>\n",
       "      <td>1652</td>\n",
       "      <td>0.03</td>\n",
       "      <td>0.885</td>\n",
       "      <td>0.085</td>\n",
       "      <td>0.8402</td>\n",
       "      <td>201815-201825</td>\n",
       "      <td>BAE</td>\n",
       "      <td>5COP</td>\n",
       "      <td>JR</td>\n",
       "      <td>US Citizen</td>\n",
       "      <td>3</td>\n",
       "      <td>Reliable and persistent.  Han did not have the...</td>\n",
       "      <td>Communication - has a hard time framing a summ...</td>\n",
       "      <td>Better business communication in the workplace...</td>\n",
       "      <td>Reliable and persistent.  Han did not have the...</td>\n",
       "    </tr>\n",
       "  </tbody>\n",
       "</table>\n",
       "</div>"
      ],
      "text/plain": [
       "   Responder ID   neg    neu    pos  compound     Work Terms Major  \\\n",
       "0           427  0.00  0.686  0.314    0.9814  201815-201825   FIN   \n",
       "1           428  0.00  0.859  0.141    0.5574  201815-201825   FIN   \n",
       "2          1648  0.00  0.872  0.128    0.9359  201815-201825   BAE   \n",
       "3          1651  0.00  0.897  0.103    0.3182  201815-201825  INT1   \n",
       "4          1652  0.03  0.885  0.085    0.8402  201815-201825   BAE   \n",
       "\n",
       "  Concentration Class Citizenship   Coop  \\\n",
       "0          5COP    PJ   US Citizen     2   \n",
       "1          5COP    JR   US Citizen     3   \n",
       "2          5COP    SR   US Citizen     3   \n",
       "3          5COP    SR   US Citizen     3   \n",
       "4          5COP    JR   US Citizen     3   \n",
       "\n",
       "                                           Strengths  \\\n",
       "0  Sachin is dedicated to delivering high quality...   \n",
       "1  Positive outlook for work and interaction with...   \n",
       "2  - Very Bright; Absorbs & understands complicat...   \n",
       "3  Dedication, teamwork, quality performance, abi...   \n",
       "4  Reliable and persistent.  Han did not have the...   \n",
       "\n",
       "                                            Weakness  \\\n",
       "0  Sachin can improve upon his confidence with pu...   \n",
       "1  Initiative and overall business / financial ac...   \n",
       "2  At Midpoint, Frankie was given feedback about ...   \n",
       "3  Reinsurance industry technical knowledge throu...   \n",
       "4  Communication - has a hard time framing a summ...   \n",
       "\n",
       "                                                Acad  \\\n",
       "0                                               None   \n",
       "1  Strengthen his knowledge of matters of corpora...   \n",
       "2                                               None   \n",
       "3  Continue to take relevant classes and move to ...   \n",
       "4  Better business communication in the workplace...   \n",
       "\n",
       "                                              Merged  \n",
       "0  Sachin is dedicated to delivering high quality...  \n",
       "1  Positive outlook for work and interaction with...  \n",
       "2  - Very Bright; Absorbs & understands complicat...  \n",
       "3  Dedication, teamwork, quality performance, abi...  \n",
       "4  Reliable and persistent.  Han did not have the...  "
      ]
     },
     "execution_count": 23,
     "metadata": {},
     "output_type": "execute_result"
    }
   ],
   "source": [
    "vaders4.head()"
   ]
  },
  {
   "cell_type": "code",
   "execution_count": 24,
   "id": "90f05f52",
   "metadata": {},
   "outputs": [],
   "source": [
    "#2019\n",
    "vaders5 = pd.DataFrame(res5).T\n",
    "vaders5 = vaders5.reset_index().rename(columns={'index': 'Responder ID'})\n",
    "vaders5 = vaders5.merge(df5, how='left')"
   ]
  },
  {
   "cell_type": "code",
   "execution_count": 25,
   "id": "e8b7d841",
   "metadata": {},
   "outputs": [
    {
     "data": {
      "text/html": [
       "<div>\n",
       "<style scoped>\n",
       "    .dataframe tbody tr th:only-of-type {\n",
       "        vertical-align: middle;\n",
       "    }\n",
       "\n",
       "    .dataframe tbody tr th {\n",
       "        vertical-align: top;\n",
       "    }\n",
       "\n",
       "    .dataframe thead th {\n",
       "        text-align: right;\n",
       "    }\n",
       "</style>\n",
       "<table border=\"1\" class=\"dataframe\">\n",
       "  <thead>\n",
       "    <tr style=\"text-align: right;\">\n",
       "      <th></th>\n",
       "      <th>Responder ID</th>\n",
       "      <th>neg</th>\n",
       "      <th>neu</th>\n",
       "      <th>pos</th>\n",
       "      <th>compound</th>\n",
       "      <th>Work Terms</th>\n",
       "      <th>Major</th>\n",
       "      <th>Concentration</th>\n",
       "      <th>Class</th>\n",
       "      <th>Citizenship</th>\n",
       "      <th>Coop</th>\n",
       "      <th>Strengths</th>\n",
       "      <th>Weakness</th>\n",
       "      <th>Acad</th>\n",
       "      <th>Merged</th>\n",
       "    </tr>\n",
       "  </thead>\n",
       "  <tbody>\n",
       "    <tr>\n",
       "      <th>0</th>\n",
       "      <td>12</td>\n",
       "      <td>0.045</td>\n",
       "      <td>0.756</td>\n",
       "      <td>0.199</td>\n",
       "      <td>0.9169</td>\n",
       "      <td>201915-201925</td>\n",
       "      <td>FIN</td>\n",
       "      <td>5COP</td>\n",
       "      <td>JR</td>\n",
       "      <td>Domestic</td>\n",
       "      <td>3</td>\n",
       "      <td>Consistently willing to help out wherever nece...</td>\n",
       "      <td>Needs to pay more attention to detail and ensu...</td>\n",
       "      <td>Please note that this is not directly related ...</td>\n",
       "      <td>Consistently willing to help out wherever nece...</td>\n",
       "    </tr>\n",
       "    <tr>\n",
       "      <th>1</th>\n",
       "      <td>27</td>\n",
       "      <td>0.014</td>\n",
       "      <td>0.769</td>\n",
       "      <td>0.217</td>\n",
       "      <td>0.9954</td>\n",
       "      <td>201935-201945</td>\n",
       "      <td>BAE</td>\n",
       "      <td>5COP</td>\n",
       "      <td>SR</td>\n",
       "      <td>Domestic</td>\n",
       "      <td>3</td>\n",
       "      <td>1. Energy and thirst for learning new skills\\r...</td>\n",
       "      <td>1. More Frequent Communication &amp; Status Update...</td>\n",
       "      <td>N/A - Perfect fit</td>\n",
       "      <td>1. Energy and thirst for learning new skills\\r...</td>\n",
       "    </tr>\n",
       "    <tr>\n",
       "      <th>2</th>\n",
       "      <td>58</td>\n",
       "      <td>0.000</td>\n",
       "      <td>0.803</td>\n",
       "      <td>0.197</td>\n",
       "      <td>0.9325</td>\n",
       "      <td>201935-201945</td>\n",
       "      <td>SPBS</td>\n",
       "      <td>5COP</td>\n",
       "      <td>SR</td>\n",
       "      <td>Domestic</td>\n",
       "      <td>3</td>\n",
       "      <td>Jalen connects well with his peers.  He is a g...</td>\n",
       "      <td>Jalen can improve on being more aligned with t...</td>\n",
       "      <td>I would encourage Jalen to seek out courses in...</td>\n",
       "      <td>Jalen connects well with his peers.  He is a g...</td>\n",
       "    </tr>\n",
       "    <tr>\n",
       "      <th>3</th>\n",
       "      <td>69</td>\n",
       "      <td>0.167</td>\n",
       "      <td>0.833</td>\n",
       "      <td>0.000</td>\n",
       "      <td>-0.1027</td>\n",
       "      <td>201925-201935</td>\n",
       "      <td>ACCT</td>\n",
       "      <td>5COP</td>\n",
       "      <td>SR</td>\n",
       "      <td>Domestic</td>\n",
       "      <td>0</td>\n",
       "      <td>hard worker and consistently showed up on time</td>\n",
       "      <td>na</td>\n",
       "      <td>na</td>\n",
       "      <td>hard worker and consistently showed up on timena</td>\n",
       "    </tr>\n",
       "    <tr>\n",
       "      <th>4</th>\n",
       "      <td>75</td>\n",
       "      <td>0.045</td>\n",
       "      <td>0.800</td>\n",
       "      <td>0.155</td>\n",
       "      <td>0.7096</td>\n",
       "      <td>201935-201945</td>\n",
       "      <td>MKTG</td>\n",
       "      <td>5COP</td>\n",
       "      <td>SR</td>\n",
       "      <td>Domestic</td>\n",
       "      <td>3</td>\n",
       "      <td>As you can see by all of the Top 10% selection...</td>\n",
       "      <td>His biggest weakness is the rate at which I'm ...</td>\n",
       "      <td>No changes.</td>\n",
       "      <td>As you can see by all of the Top 10% selection...</td>\n",
       "    </tr>\n",
       "  </tbody>\n",
       "</table>\n",
       "</div>"
      ],
      "text/plain": [
       "   Responder ID    neg    neu    pos  compound     Work Terms Major  \\\n",
       "0            12  0.045  0.756  0.199    0.9169  201915-201925   FIN   \n",
       "1            27  0.014  0.769  0.217    0.9954  201935-201945   BAE   \n",
       "2            58  0.000  0.803  0.197    0.9325  201935-201945  SPBS   \n",
       "3            69  0.167  0.833  0.000   -0.1027  201925-201935  ACCT   \n",
       "4            75  0.045  0.800  0.155    0.7096  201935-201945  MKTG   \n",
       "\n",
       "  Concentration Class Citizenship  Coop  \\\n",
       "0          5COP    JR    Domestic     3   \n",
       "1          5COP    SR    Domestic     3   \n",
       "2          5COP    SR    Domestic     3   \n",
       "3          5COP    SR    Domestic     0   \n",
       "4          5COP    SR    Domestic     3   \n",
       "\n",
       "                                           Strengths  \\\n",
       "0  Consistently willing to help out wherever nece...   \n",
       "1  1. Energy and thirst for learning new skills\\r...   \n",
       "2  Jalen connects well with his peers.  He is a g...   \n",
       "3     hard worker and consistently showed up on time   \n",
       "4  As you can see by all of the Top 10% selection...   \n",
       "\n",
       "                                            Weakness  \\\n",
       "0  Needs to pay more attention to detail and ensu...   \n",
       "1  1. More Frequent Communication & Status Update...   \n",
       "2  Jalen can improve on being more aligned with t...   \n",
       "3                                                 na   \n",
       "4  His biggest weakness is the rate at which I'm ...   \n",
       "\n",
       "                                                Acad  \\\n",
       "0  Please note that this is not directly related ...   \n",
       "1                                  N/A - Perfect fit   \n",
       "2  I would encourage Jalen to seek out courses in...   \n",
       "3                                                 na   \n",
       "4                                        No changes.   \n",
       "\n",
       "                                              Merged  \n",
       "0  Consistently willing to help out wherever nece...  \n",
       "1  1. Energy and thirst for learning new skills\\r...  \n",
       "2  Jalen connects well with his peers.  He is a g...  \n",
       "3   hard worker and consistently showed up on timena  \n",
       "4  As you can see by all of the Top 10% selection...  "
      ]
     },
     "execution_count": 25,
     "metadata": {},
     "output_type": "execute_result"
    }
   ],
   "source": [
    "vaders5.head()"
   ]
  },
  {
   "cell_type": "code",
   "execution_count": 26,
   "id": "141e55f9",
   "metadata": {},
   "outputs": [],
   "source": [
    "#2020\n",
    "vaders6 = pd.DataFrame(res6).T\n",
    "vaders6 = vaders6.reset_index().rename(columns={'index': 'Responder ID'})\n",
    "vaders6 = vaders6.merge(df6, how='left')"
   ]
  },
  {
   "cell_type": "code",
   "execution_count": 27,
   "id": "040da242",
   "metadata": {},
   "outputs": [
    {
     "data": {
      "text/html": [
       "<div>\n",
       "<style scoped>\n",
       "    .dataframe tbody tr th:only-of-type {\n",
       "        vertical-align: middle;\n",
       "    }\n",
       "\n",
       "    .dataframe tbody tr th {\n",
       "        vertical-align: top;\n",
       "    }\n",
       "\n",
       "    .dataframe thead th {\n",
       "        text-align: right;\n",
       "    }\n",
       "</style>\n",
       "<table border=\"1\" class=\"dataframe\">\n",
       "  <thead>\n",
       "    <tr style=\"text-align: right;\">\n",
       "      <th></th>\n",
       "      <th>Responder ID</th>\n",
       "      <th>neg</th>\n",
       "      <th>neu</th>\n",
       "      <th>pos</th>\n",
       "      <th>compound</th>\n",
       "      <th>Work Terms</th>\n",
       "      <th>Major</th>\n",
       "      <th>Concentration</th>\n",
       "      <th>Class BOT</th>\n",
       "      <th>Citizenship</th>\n",
       "      <th>Coop</th>\n",
       "      <th>Strengths</th>\n",
       "      <th>Weakness</th>\n",
       "      <th>Acad</th>\n",
       "      <th>merged</th>\n",
       "    </tr>\n",
       "  </thead>\n",
       "  <tbody>\n",
       "    <tr>\n",
       "      <th>0</th>\n",
       "      <td>2181</td>\n",
       "      <td>0.000</td>\n",
       "      <td>0.381</td>\n",
       "      <td>0.619</td>\n",
       "      <td>0.7579</td>\n",
       "      <td>Spring/Summer</td>\n",
       "      <td>ACCT</td>\n",
       "      <td>5COP</td>\n",
       "      <td>SR</td>\n",
       "      <td>Domestic</td>\n",
       "      <td>3</td>\n",
       "      <td>Asks good questions and positive attitude</td>\n",
       "      <td>na</td>\n",
       "      <td>na</td>\n",
       "      <td>Asks good questions and positive attitudena</td>\n",
       "    </tr>\n",
       "    <tr>\n",
       "      <th>1</th>\n",
       "      <td>74</td>\n",
       "      <td>0.131</td>\n",
       "      <td>0.656</td>\n",
       "      <td>0.213</td>\n",
       "      <td>0.3818</td>\n",
       "      <td>Fall/Winter</td>\n",
       "      <td>MIS</td>\n",
       "      <td>5COP</td>\n",
       "      <td>SR</td>\n",
       "      <td>Domestic</td>\n",
       "      <td>3</td>\n",
       "      <td>Numbers based analytics / advanced excel</td>\n",
       "      <td>Self motivation (I believe this was a tough ye...</td>\n",
       "      <td>NaN</td>\n",
       "      <td>Numbers based analytics / advanced excelSelf m...</td>\n",
       "    </tr>\n",
       "    <tr>\n",
       "      <th>2</th>\n",
       "      <td>5586</td>\n",
       "      <td>0.097</td>\n",
       "      <td>0.718</td>\n",
       "      <td>0.185</td>\n",
       "      <td>0.6447</td>\n",
       "      <td>Spring/Summer</td>\n",
       "      <td>FIN</td>\n",
       "      <td>5COP</td>\n",
       "      <td>SR</td>\n",
       "      <td>Domestic</td>\n",
       "      <td>2</td>\n",
       "      <td>Christina is organized and focused. She accept...</td>\n",
       "      <td>There were times that she failed to get inform...</td>\n",
       "      <td>Just continue on the path of learning and take...</td>\n",
       "      <td>Christina is organized and focused. She accept...</td>\n",
       "    </tr>\n",
       "    <tr>\n",
       "      <th>3</th>\n",
       "      <td>2366</td>\n",
       "      <td>0.042</td>\n",
       "      <td>0.777</td>\n",
       "      <td>0.182</td>\n",
       "      <td>0.7506</td>\n",
       "      <td>Spring/Summer</td>\n",
       "      <td>FIN</td>\n",
       "      <td>5COP</td>\n",
       "      <td>SR</td>\n",
       "      <td>Domestic</td>\n",
       "      <td>3</td>\n",
       "      <td>Justin was able to pick up processes quickly a...</td>\n",
       "      <td>Justin has opportunity to develop his skills a...</td>\n",
       "      <td>NaN</td>\n",
       "      <td>Justin was able to pick up processes quickly a...</td>\n",
       "    </tr>\n",
       "    <tr>\n",
       "      <th>4</th>\n",
       "      <td>2367</td>\n",
       "      <td>0.024</td>\n",
       "      <td>0.661</td>\n",
       "      <td>0.315</td>\n",
       "      <td>0.9836</td>\n",
       "      <td>Spring/Summer</td>\n",
       "      <td>MKTG</td>\n",
       "      <td>5COP</td>\n",
       "      <td>SR</td>\n",
       "      <td>Domestic</td>\n",
       "      <td>3</td>\n",
       "      <td>Alessandra had a wonderful attitude, was highl...</td>\n",
       "      <td>Alessandra was wonderful and an asset to our t...</td>\n",
       "      <td>None</td>\n",
       "      <td>Alessandra had a wonderful attitude, was highl...</td>\n",
       "    </tr>\n",
       "  </tbody>\n",
       "</table>\n",
       "</div>"
      ],
      "text/plain": [
       "   Responder ID    neg    neu    pos  compound     Work Terms Major  \\\n",
       "0          2181  0.000  0.381  0.619    0.7579  Spring/Summer  ACCT   \n",
       "1            74  0.131  0.656  0.213    0.3818    Fall/Winter   MIS   \n",
       "2          5586  0.097  0.718  0.185    0.6447  Spring/Summer   FIN   \n",
       "3          2366  0.042  0.777  0.182    0.7506  Spring/Summer   FIN   \n",
       "4          2367  0.024  0.661  0.315    0.9836  Spring/Summer  MKTG   \n",
       "\n",
       "  Concentration Class BOT Citizenship  Coop  \\\n",
       "0          5COP        SR    Domestic     3   \n",
       "1          5COP        SR    Domestic     3   \n",
       "2          5COP        SR    Domestic     2   \n",
       "3          5COP        SR    Domestic     3   \n",
       "4          5COP        SR    Domestic     3   \n",
       "\n",
       "                                           Strengths  \\\n",
       "0          Asks good questions and positive attitude   \n",
       "1           Numbers based analytics / advanced excel   \n",
       "2  Christina is organized and focused. She accept...   \n",
       "3  Justin was able to pick up processes quickly a...   \n",
       "4  Alessandra had a wonderful attitude, was highl...   \n",
       "\n",
       "                                            Weakness  \\\n",
       "0                                                 na   \n",
       "1  Self motivation (I believe this was a tough ye...   \n",
       "2  There were times that she failed to get inform...   \n",
       "3  Justin has opportunity to develop his skills a...   \n",
       "4  Alessandra was wonderful and an asset to our t...   \n",
       "\n",
       "                                                Acad  \\\n",
       "0                                                 na   \n",
       "1                                                NaN   \n",
       "2  Just continue on the path of learning and take...   \n",
       "3                                                NaN   \n",
       "4                                               None   \n",
       "\n",
       "                                              merged  \n",
       "0        Asks good questions and positive attitudena  \n",
       "1  Numbers based analytics / advanced excelSelf m...  \n",
       "2  Christina is organized and focused. She accept...  \n",
       "3  Justin was able to pick up processes quickly a...  \n",
       "4  Alessandra had a wonderful attitude, was highl...  "
      ]
     },
     "execution_count": 27,
     "metadata": {},
     "output_type": "execute_result"
    }
   ],
   "source": [
    "vaders6.head()"
   ]
  },
  {
   "cell_type": "code",
   "execution_count": 28,
   "id": "06eb1b48",
   "metadata": {},
   "outputs": [
    {
     "data": {
      "image/png": "[encoded data removed]",
      "text/plain": [
       "<Figure size 1080x288 with 2 Axes>"
      ]
     },
     "metadata": {},
     "output_type": "display_data"
    }
   ],
   "source": [
    "fig, axs = plt.subplots(1, 2, figsize=(15, 4))\n",
    "sns.barplot(data=vaders0, x='Coop', y='pos', ax=axs[0])\n",
    "sns.barplot(data=vaders0, x='Coop', y='neg', ax=axs[1])\n",
    "axs[0].set_title('14_Positive')\n",
    "axs[1].set_title('14_Negative')\n",
    "plt.tight_layout()\n",
    "plt.show()"
   ]
  },
  {
   "cell_type": "code",
   "execution_count": 29,
   "id": "955cd420",
   "metadata": {
    "scrolled": true
   },
   "outputs": [
    {
     "data": {
      "image/png": "[encoded data removed]",
      "text/plain": [
       "<Figure size 1080x288 with 2 Axes>"
      ]
     },
     "metadata": {},
     "output_type": "display_data"
    }
   ],
   "source": [
    "fig, axs1 = plt.subplots(1, 2, figsize=(15, 4))\n",
    "sns.barplot(data=vaders1, x='Coop', y='pos', ax=axs1[0])\n",
    "sns.barplot(data=vaders1, x='Coop', y='neg', ax=axs1[1])\n",
    "axs1[0].set_title('15_Positive')\n",
    "axs1[1].set_title('15_Negative')\n",
    "plt.tight_layout()\n",
    "plt.show()"
   ]
  },
  {
   "cell_type": "code",
   "execution_count": 30,
   "id": "ecc47f37",
   "metadata": {},
   "outputs": [
    {
     "data": {
      "image/png": "[encoded data removed]",
      "text/plain": [
       "<Figure size 1080x288 with 2 Axes>"
      ]
     },
     "metadata": {},
     "output_type": "display_data"
    }
   ],
   "source": [
    "fig, axs2 = plt.subplots(1, 2, figsize=(15, 4))\n",
    "sns.barplot(data=vaders2, x='Coop', y='pos', ax=axs2[0])\n",
    "sns.barplot(data=vaders2, x='Coop', y='neg', ax=axs2[1])\n",
    "axs2[0].set_title('16_Positive')  \n",
    "axs2[1].set_title('16_Negative')\n",
    "plt.tight_layout()\n",
    "plt.show()"
   ]
  },
  {
   "cell_type": "code",
   "execution_count": 31,
   "id": "b0861b03",
   "metadata": {},
   "outputs": [
    {
     "data": {
      "image/png": "[encoded data removed]",
      "text/plain": [
       "<Figure size 1080x288 with 2 Axes>"
      ]
     },
     "metadata": {},
     "output_type": "display_data"
    }
   ],
   "source": [
    "fig, axs3 = plt.subplots(1, 2, figsize=(15, 4))\n",
    "sns.barplot(data=vaders3, x='Coop', y='pos', ax=axs3[0])\n",
    "sns.barplot(data=vaders3, x='Coop', y='neg', ax=axs3[1])\n",
    "axs3[0].set_title('17_Positive')\n",
    "axs3[1].set_title('17_Negative')\n",
    "plt.tight_layout()\n",
    "plt.show()"
   ]
  },
  {
   "cell_type": "code",
   "execution_count": 32,
   "id": "47c3a726",
   "metadata": {
    "scrolled": true
   },
   "outputs": [
    {
     "data": {
      "image/png": "[encoded data removed]",
      "text/plain": [
       "<Figure size 1080x288 with 2 Axes>"
      ]
     },
     "metadata": {},
     "output_type": "display_data"
    }
   ],
   "source": [
    "fig, axs4 = plt.subplots(1, 2, figsize=(15, 4))\n",
    "sns.barplot(data=vaders4, x='Coop', y='pos', ax=axs4[0])\n",
    "sns.barplot(data=vaders4, x='Coop', y='neg', ax=axs4[1])\n",
    "axs4[0].set_title('18_Positive')\n",
    "axs4[1].set_title('18_Negative')\n",
    "plt.tight_layout()\n",
    "plt.show()"
   ]
  },
  {
   "cell_type": "code",
   "execution_count": 33,
   "id": "ca00999f",
   "metadata": {
    "scrolled": false
   },
   "outputs": [
    {
     "data": {
      "image/png": "[encoded data removed]",
      "text/plain": [
       "<Figure size 1080x288 with 2 Axes>"
      ]
     },
     "metadata": {},
     "output_type": "display_data"
    }
   ],
   "source": [
    "fig, axs5 = plt.subplots(1, 2, figsize=(15, 4))\n",
    "sns.barplot(data=vaders5, x='Coop', y='pos', ax=axs5[0])\n",
    "sns.barplot(data=vaders5, x='Coop', y='neg', ax=axs5[1])\n",
    "axs5[0].set_title('19_Positive')\n",
    "axs5[1].set_title('19_Negative')\n",
    "plt.tight_layout()\n",
    "plt.show()"
   ]
  },
  {
   "cell_type": "code",
   "execution_count": 34,
   "id": "4555d14c",
   "metadata": {},
   "outputs": [
    {
     "data": {
      "image/png": "[encoded data removed]",
      "text/plain": [
       "<Figure size 1080x288 with 2 Axes>"
      ]
     },
     "metadata": {},
     "output_type": "display_data"
    }
   ],
   "source": [
    "fig, axs6 = plt.subplots(1, 2, figsize=(15, 4))\n",
    "sns.barplot(data=vaders6, x='Coop', y='pos', ax=axs6[0])\n",
    "sns.barplot(data=vaders6, x='Coop', y='neg', ax=axs6[1])\n",
    "axs6[0].set_title('20_Positive')\n",
    "axs6[1].set_title('20_Negative')\n",
    "plt.tight_layout()\n",
    "plt.show()"
   ]
  },
  {
   "cell_type": "code",
   "execution_count": 35,
   "id": "d3f2c786",
   "metadata": {},
   "outputs": [
    {
     "data": {
      "image/png": "[encoded data removed]",
      "text/plain": [
       "<Figure size 2520x360 with 7 Axes>"
      ]
     },
     "metadata": {},
     "output_type": "display_data"
    }
   ],
   "source": [
    "fig, axs7 = plt.subplots(1, 7, figsize=(35, 5))\n",
    "sns.barplot(data=vaders0, x='Coop', y='pos', ax=axs7[0])\n",
    "sns.barplot(data=vaders1, x='Coop', y='pos', ax=axs7[1])\n",
    "sns.barplot(data=vaders2, x='Coop', y='pos', ax=axs7[2])\n",
    "sns.barplot(data=vaders3, x='Coop', y='pos', ax=axs7[3])\n",
    "sns.barplot(data=vaders4, x='Coop', y='pos', ax=axs7[4])\n",
    "sns.barplot(data=vaders5, x='Coop', y='pos', ax=axs7[5])\n",
    "sns.barplot(data=vaders6, x='Coop', y='pos', ax=axs7[6])\n",
    "axs7[0].set_title('2014_Positive')\n",
    "axs7[1].set_title('2015_Positive')\n",
    "axs7[2].set_title('2016_Positive')\n",
    "axs7[3].set_title('2017_Positive')\n",
    "axs7[4].set_title('2018_Positive')\n",
    "axs7[5].set_title('2019_Positive')\n",
    "axs7[6].set_title('2020_Positive')\n",
    "plt.tight_layout()\n",
    "plt.show()"
   ]
  },
  {
   "cell_type": "code",
   "execution_count": 36,
   "id": "0a468517",
   "metadata": {},
   "outputs": [
    {
     "data": {
      "image/png": "[encoded data removed]",
      "text/plain": [
       "<Figure size 2520x360 with 7 Axes>"
      ]
     },
     "metadata": {},
     "output_type": "display_data"
    }
   ],
   "source": [
    "fig, axs8 = plt.subplots(1, 7, figsize=(35, 5))\n",
    "sns.barplot(data=vaders0, x='Coop', y='neg', ax=axs8[0])\n",
    "sns.barplot(data=vaders1, x='Coop', y='neg', ax=axs8[1])\n",
    "sns.barplot(data=vaders2, x='Coop', y='neg', ax=axs8[2])\n",
    "sns.barplot(data=vaders3, x='Coop', y='neg', ax=axs8[3])\n",
    "sns.barplot(data=vaders4, x='Coop', y='neg', ax=axs8[4])\n",
    "sns.barplot(data=vaders5, x='Coop', y='neg', ax=axs8[5])\n",
    "sns.barplot(data=vaders6, x='Coop', y='neg', ax=axs8[6])\n",
    "axs8[0].set_title('2014_Negative')\n",
    "axs8[1].set_title('2015_Negative')\n",
    "axs8[2].set_title('2016_Negative')\n",
    "axs8[3].set_title('2017_Negative')\n",
    "axs8[4].set_title('2018_Negative')\n",
    "axs8[5].set_title('2019_Negative')\n",
    "axs8[6].set_title('2020_Negative')\n",
    "plt.tight_layout()\n",
    "plt.show()"
   ]
  },
  {
   "cell_type": "code",
   "execution_count": 37,
   "id": "c0332378",
   "metadata": {},
   "outputs": [
    {
     "data": {
      "image/png": "[encoded data removed]",
      "text/plain": [
       "<Figure size 2520x360 with 7 Axes>"
      ]
     },
     "metadata": {},
     "output_type": "display_data"
    }
   ],
   "source": [
    "fig, axs9 = plt.subplots(1, 7, figsize=(35, 5))\n",
    "sns.barplot(data=vaders0, x='Coop', y='compound', ax=axs9[0])\n",
    "sns.barplot(data=vaders1, x='Coop', y='compound', ax=axs9[1])\n",
    "sns.barplot(data=vaders2, x='Coop', y='compound', ax=axs9[2])\n",
    "sns.barplot(data=vaders3, x='Coop', y='compound', ax=axs9[3])\n",
    "sns.barplot(data=vaders4, x='Coop', y='compound', ax=axs9[4])\n",
    "sns.barplot(data=vaders5, x='Coop', y='compound', ax=axs9[5])\n",
    "sns.barplot(data=vaders6, x='Coop', y='compound', ax=axs9[6])\n",
    "axs9[0].set_title('2014_Comp')\n",
    "axs9[1].set_title('2015_Comp')\n",
    "axs9[2].set_title('2016_Comp')\n",
    "axs9[3].set_title('2017_Comp')\n",
    "axs9[4].set_title('2018_Comp')\n",
    "axs9[5].set_title('2019_Comp')\n",
    "axs9[6].set_title('2020_Comp')\n",
    "plt.tight_layout()\n",
    "plt.show()"
   ]
  },
  {
   "cell_type": "code",
   "execution_count": 38,
   "id": "114d501e",
   "metadata": {},
   "outputs": [],
   "source": [
    "import pandas as pd \n",
    "vaders0.to_csv('2014filtered_merged.csv')\n",
    "vaders1.to_csv('2015filtered_merged.csv')\n",
    "vaders2.to_csv('2016filtered_merged.csv')\n",
    "vaders3.to_csv('2017filtered_merged.csv')\n",
    "vaders4.to_csv('2018filtered_merged.csv')\n",
    "vaders5.to_csv('2019filtered_merged.csv')\n",
    "vaders6.to_csv('2020filtered_merged.csv')\n"
   ]
  },
  {
   "cell_type": "code",
   "execution_count": 39,
   "id": "8dd05d56",
   "metadata": {},
   "outputs": [
    {
     "name": "stdout",
     "output_type": "stream",
     "text": [
      "Requirement already satisfied: nltk in ./opt/anaconda3/lib/python3.9/site-packages (3.7)\r\n",
      "Requirement already satisfied: click in ./opt/anaconda3/lib/python3.9/site-packages (from nltk) (8.0.4)\r\n",
      "Requirement already satisfied: regex>=2021.8.3 in ./opt/anaconda3/lib/python3.9/site-packages (from nltk) (2022.3.15)\r\n",
      "Requirement already satisfied: tqdm in ./opt/anaconda3/lib/python3.9/site-packages (from nltk) (4.64.0)\r\n",
      "Requirement already satisfied: joblib in ./opt/anaconda3/lib/python3.9/site-packages (from nltk) (1.1.0)\r\n"
     ]
    },
    {
     "name": "stderr",
     "output_type": "stream",
     "text": [
      "[nltk_data] Downloading package vader_lexicon to\n",
      "[nltk_data]     /Users/yaminirege/nltk_data...\n",
      "[nltk_data]   Package vader_lexicon is already up-to-date!\n"
     ]
    }
   ],
   "source": [
    "# Install and import nltk\n",
    "!pip install nltk\n",
    "import nltk\n",
    "\n",
    "# Download the lexicon\n",
    "nltk.download(\"vader_lexicon\")\n",
    "\n",
    "# Import the lexicon \n",
    "from nltk.sentiment.vader import SentimentIntensityAnalyzer\n",
    "\n",
    "# Create an instance of SentimentIntensityAnalyzer\n",
    "sent_analyzer = SentimentIntensityAnalyzer()"
   ]
  },
  {
   "cell_type": "code",
   "execution_count": 40,
   "id": "73fa7b6f",
   "metadata": {},
   "outputs": [],
   "source": [
    "def vadersentimentanalysis(Merged1):\n",
    "    vs = sent_analyzer.polarity_scores(Merged1)\n",
    "    return vs['compound']"
   ]
  },
  {
   "cell_type": "code",
   "execution_count": 41,
   "id": "45ba84cb",
   "metadata": {},
   "outputs": [],
   "source": [
    "df0['Vader Sentiment'] = df0['Merged1'].apply(vadersentimentanalysis)"
   ]
  },
  {
   "cell_type": "code",
   "execution_count": 42,
   "id": "9555199e",
   "metadata": {},
   "outputs": [],
   "source": [
    "# function to analyse\n",
    "def vader_analysis(compound):\n",
    "    if compound >= 0.5:\n",
    "        return 'Positive'\n",
    "    elif compound <= -0.5 :\n",
    "        return 'Negative'\n",
    "    else:\n",
    "        return 'Neutral'"
   ]
  },
  {
   "cell_type": "code",
   "execution_count": 43,
   "id": "d6fdb7d8",
   "metadata": {
    "scrolled": true
   },
   "outputs": [
    {
     "data": {
      "text/html": [
       "<div>\n",
       "<style scoped>\n",
       "    .dataframe tbody tr th:only-of-type {\n",
       "        vertical-align: middle;\n",
       "    }\n",
       "\n",
       "    .dataframe tbody tr th {\n",
       "        vertical-align: top;\n",
       "    }\n",
       "\n",
       "    .dataframe thead th {\n",
       "        text-align: right;\n",
       "    }\n",
       "</style>\n",
       "<table border=\"1\" class=\"dataframe\">\n",
       "  <thead>\n",
       "    <tr style=\"text-align: right;\">\n",
       "      <th></th>\n",
       "      <th>ID</th>\n",
       "      <th>Terms</th>\n",
       "      <th>Class (BOT)</th>\n",
       "      <th>Major</th>\n",
       "      <th>Conc</th>\n",
       "      <th>Coop</th>\n",
       "      <th>Citizenship</th>\n",
       "      <th>Strengths</th>\n",
       "      <th>Weakness</th>\n",
       "      <th>Acad</th>\n",
       "      <th>Merged1</th>\n",
       "      <th>Vader Sentiment</th>\n",
       "      <th>Vader Analysis</th>\n",
       "    </tr>\n",
       "  </thead>\n",
       "  <tbody>\n",
       "    <tr>\n",
       "      <th>0</th>\n",
       "      <td>6</td>\n",
       "      <td>201435-201445</td>\n",
       "      <td>SR</td>\n",
       "      <td>ACCT</td>\n",
       "      <td>4COP</td>\n",
       "      <td>0</td>\n",
       "      <td>US Citizen</td>\n",
       "      <td>[Student's] strengths include the ability to m...</td>\n",
       "      <td>In the time that I worked with [Student] - the...</td>\n",
       "      <td>None</td>\n",
       "      <td>[Student's] strengths include the ability to m...</td>\n",
       "      <td>0.8934</td>\n",
       "      <td>Positive</td>\n",
       "    </tr>\n",
       "    <tr>\n",
       "      <th>1</th>\n",
       "      <td>11</td>\n",
       "      <td>201415-201425</td>\n",
       "      <td>JR</td>\n",
       "      <td>FIN</td>\n",
       "      <td>4COP</td>\n",
       "      <td>0</td>\n",
       "      <td>US Citizen</td>\n",
       "      <td>Demonstrates knowledge in compiling and analyz...</td>\n",
       "      <td>Improvement needed in areas of following proto...</td>\n",
       "      <td>Student needs a strong role model to help him ...</td>\n",
       "      <td>Demonstrates knowledge in compiling and analyz...</td>\n",
       "      <td>0.8555</td>\n",
       "      <td>Positive</td>\n",
       "    </tr>\n",
       "    <tr>\n",
       "      <th>2</th>\n",
       "      <td>25</td>\n",
       "      <td>201435-201445</td>\n",
       "      <td>JR</td>\n",
       "      <td>GBUS</td>\n",
       "      <td>4COP</td>\n",
       "      <td>0</td>\n",
       "      <td>US Citizen</td>\n",
       "      <td>[Student] is detail-oriented, customer-focused...</td>\n",
       "      <td>Opportunity exists for [Student] to know his a...</td>\n",
       "      <td>Training or a course on Corporate Communicatio...</td>\n",
       "      <td>[Student] is detail-oriented, customer-focused...</td>\n",
       "      <td>0.5719</td>\n",
       "      <td>Positive</td>\n",
       "    </tr>\n",
       "    <tr>\n",
       "      <th>3</th>\n",
       "      <td>37</td>\n",
       "      <td>201435-201445</td>\n",
       "      <td>SR</td>\n",
       "      <td>LGST</td>\n",
       "      <td>5COP</td>\n",
       "      <td>2</td>\n",
       "      <td>US Citizen</td>\n",
       "      <td>Excellent attention to detail and work ethic. ...</td>\n",
       "      <td>Communicating issues in a simple concise manne...</td>\n",
       "      <td>None</td>\n",
       "      <td>Excellent attention to detail and work ethic. ...</td>\n",
       "      <td>0.9538</td>\n",
       "      <td>Positive</td>\n",
       "    </tr>\n",
       "    <tr>\n",
       "      <th>4</th>\n",
       "      <td>44</td>\n",
       "      <td>201435-201445</td>\n",
       "      <td>SO</td>\n",
       "      <td>BAE</td>\n",
       "      <td>5COP</td>\n",
       "      <td>1</td>\n",
       "      <td>US Citizen</td>\n",
       "      <td>Communication skills, leadership, lead by example</td>\n",
       "      <td>late on occasion</td>\n",
       "      <td>None</td>\n",
       "      <td>Communication skills, leadership, lead by exam...</td>\n",
       "      <td>0.0000</td>\n",
       "      <td>Neutral</td>\n",
       "    </tr>\n",
       "  </tbody>\n",
       "</table>\n",
       "</div>"
      ],
      "text/plain": [
       "   ID          Terms Class (BOT) Major  Conc  Coop Citizenship  \\\n",
       "0   6  201435-201445          SR  ACCT  4COP     0  US Citizen   \n",
       "1  11  201415-201425          JR   FIN  4COP     0  US Citizen   \n",
       "2  25  201435-201445          JR  GBUS  4COP     0  US Citizen   \n",
       "3  37  201435-201445          SR  LGST  5COP     2  US Citizen   \n",
       "4  44  201435-201445          SO   BAE  5COP     1  US Citizen   \n",
       "\n",
       "                                           Strengths  \\\n",
       "0  [Student's] strengths include the ability to m...   \n",
       "1  Demonstrates knowledge in compiling and analyz...   \n",
       "2  [Student] is detail-oriented, customer-focused...   \n",
       "3  Excellent attention to detail and work ethic. ...   \n",
       "4  Communication skills, leadership, lead by example   \n",
       "\n",
       "                                            Weakness  \\\n",
       "0  In the time that I worked with [Student] - the...   \n",
       "1  Improvement needed in areas of following proto...   \n",
       "2  Opportunity exists for [Student] to know his a...   \n",
       "3  Communicating issues in a simple concise manne...   \n",
       "4                                   late on occasion   \n",
       "\n",
       "                                                Acad  \\\n",
       "0                                               None   \n",
       "1  Student needs a strong role model to help him ...   \n",
       "2  Training or a course on Corporate Communicatio...   \n",
       "3                                               None   \n",
       "4                                               None   \n",
       "\n",
       "                                             Merged1  Vader Sentiment  \\\n",
       "0  [Student's] strengths include the ability to m...           0.8934   \n",
       "1  Demonstrates knowledge in compiling and analyz...           0.8555   \n",
       "2  [Student] is detail-oriented, customer-focused...           0.5719   \n",
       "3  Excellent attention to detail and work ethic. ...           0.9538   \n",
       "4  Communication skills, leadership, lead by exam...           0.0000   \n",
       "\n",
       "  Vader Analysis  \n",
       "0       Positive  \n",
       "1       Positive  \n",
       "2       Positive  \n",
       "3       Positive  \n",
       "4        Neutral  "
      ]
     },
     "execution_count": 43,
     "metadata": {},
     "output_type": "execute_result"
    }
   ],
   "source": [
    "df0['Vader Analysis'] = df0['Vader Sentiment'].apply(vader_analysis)\n",
    "df0.head()"
   ]
  },
  {
   "cell_type": "code",
   "execution_count": 44,
   "id": "a1ac3259",
   "metadata": {},
   "outputs": [
    {
     "data": {
      "text/plain": [
       "Positive    599\n",
       "Neutral     162\n",
       "Negative      6\n",
       "Name: Vader Analysis, dtype: int64"
      ]
     },
     "execution_count": 44,
     "metadata": {},
     "output_type": "execute_result"
    }
   ],
   "source": [
    "vader_counts = df0['Vader Analysis'].value_counts()\n",
    "vader_counts"
   ]
  },
  {
   "cell_type": "code",
   "execution_count": 45,
   "id": "c13510f5",
   "metadata": {},
   "outputs": [],
   "source": [
    "def vadersentimentanalysis(Strengths):\n",
    "    vs = sent_analyzer.polarity_scores(Strengths)\n",
    "    return vs['compound']"
   ]
  },
  {
   "cell_type": "code",
   "execution_count": 46,
   "id": "de2eb1c5",
   "metadata": {},
   "outputs": [],
   "source": [
    "df0['Vader Sentiment_S'] = df0['Strengths'].apply(vadersentimentanalysis)"
   ]
  },
  {
   "cell_type": "code",
   "execution_count": 47,
   "id": "308b1c59",
   "metadata": {},
   "outputs": [
    {
     "data": {
      "text/html": [
       "<div>\n",
       "<style scoped>\n",
       "    .dataframe tbody tr th:only-of-type {\n",
       "        vertical-align: middle;\n",
       "    }\n",
       "\n",
       "    .dataframe tbody tr th {\n",
       "        vertical-align: top;\n",
       "    }\n",
       "\n",
       "    .dataframe thead th {\n",
       "        text-align: right;\n",
       "    }\n",
       "</style>\n",
       "<table border=\"1\" class=\"dataframe\">\n",
       "  <thead>\n",
       "    <tr style=\"text-align: right;\">\n",
       "      <th></th>\n",
       "      <th>ID</th>\n",
       "      <th>Terms</th>\n",
       "      <th>Class (BOT)</th>\n",
       "      <th>Major</th>\n",
       "      <th>Conc</th>\n",
       "      <th>Coop</th>\n",
       "      <th>Citizenship</th>\n",
       "      <th>Strengths</th>\n",
       "      <th>Weakness</th>\n",
       "      <th>Acad</th>\n",
       "      <th>Merged1</th>\n",
       "      <th>Vader Sentiment</th>\n",
       "      <th>Vader Analysis</th>\n",
       "      <th>Vader Sentiment_S</th>\n",
       "      <th>Vader Analysis_S</th>\n",
       "    </tr>\n",
       "  </thead>\n",
       "  <tbody>\n",
       "    <tr>\n",
       "      <th>0</th>\n",
       "      <td>6</td>\n",
       "      <td>201435-201445</td>\n",
       "      <td>SR</td>\n",
       "      <td>ACCT</td>\n",
       "      <td>4COP</td>\n",
       "      <td>0</td>\n",
       "      <td>US Citizen</td>\n",
       "      <td>[Student's] strengths include the ability to m...</td>\n",
       "      <td>In the time that I worked with [Student] - the...</td>\n",
       "      <td>None</td>\n",
       "      <td>[Student's] strengths include the ability to m...</td>\n",
       "      <td>0.8934</td>\n",
       "      <td>Positive</td>\n",
       "      <td>0.8271</td>\n",
       "      <td>Positive</td>\n",
       "    </tr>\n",
       "    <tr>\n",
       "      <th>1</th>\n",
       "      <td>11</td>\n",
       "      <td>201415-201425</td>\n",
       "      <td>JR</td>\n",
       "      <td>FIN</td>\n",
       "      <td>4COP</td>\n",
       "      <td>0</td>\n",
       "      <td>US Citizen</td>\n",
       "      <td>Demonstrates knowledge in compiling and analyz...</td>\n",
       "      <td>Improvement needed in areas of following proto...</td>\n",
       "      <td>Student needs a strong role model to help him ...</td>\n",
       "      <td>Demonstrates knowledge in compiling and analyz...</td>\n",
       "      <td>0.8555</td>\n",
       "      <td>Positive</td>\n",
       "      <td>0.8555</td>\n",
       "      <td>Positive</td>\n",
       "    </tr>\n",
       "    <tr>\n",
       "      <th>2</th>\n",
       "      <td>25</td>\n",
       "      <td>201435-201445</td>\n",
       "      <td>JR</td>\n",
       "      <td>GBUS</td>\n",
       "      <td>4COP</td>\n",
       "      <td>0</td>\n",
       "      <td>US Citizen</td>\n",
       "      <td>[Student] is detail-oriented, customer-focused...</td>\n",
       "      <td>Opportunity exists for [Student] to know his a...</td>\n",
       "      <td>Training or a course on Corporate Communicatio...</td>\n",
       "      <td>[Student] is detail-oriented, customer-focused...</td>\n",
       "      <td>0.5719</td>\n",
       "      <td>Positive</td>\n",
       "      <td>0.2732</td>\n",
       "      <td>Neutral</td>\n",
       "    </tr>\n",
       "    <tr>\n",
       "      <th>3</th>\n",
       "      <td>37</td>\n",
       "      <td>201435-201445</td>\n",
       "      <td>SR</td>\n",
       "      <td>LGST</td>\n",
       "      <td>5COP</td>\n",
       "      <td>2</td>\n",
       "      <td>US Citizen</td>\n",
       "      <td>Excellent attention to detail and work ethic. ...</td>\n",
       "      <td>Communicating issues in a simple concise manne...</td>\n",
       "      <td>None</td>\n",
       "      <td>Excellent attention to detail and work ethic. ...</td>\n",
       "      <td>0.9538</td>\n",
       "      <td>Positive</td>\n",
       "      <td>0.9325</td>\n",
       "      <td>Positive</td>\n",
       "    </tr>\n",
       "    <tr>\n",
       "      <th>4</th>\n",
       "      <td>44</td>\n",
       "      <td>201435-201445</td>\n",
       "      <td>SO</td>\n",
       "      <td>BAE</td>\n",
       "      <td>5COP</td>\n",
       "      <td>1</td>\n",
       "      <td>US Citizen</td>\n",
       "      <td>Communication skills, leadership, lead by example</td>\n",
       "      <td>late on occasion</td>\n",
       "      <td>None</td>\n",
       "      <td>Communication skills, leadership, lead by exam...</td>\n",
       "      <td>0.0000</td>\n",
       "      <td>Neutral</td>\n",
       "      <td>0.0000</td>\n",
       "      <td>Neutral</td>\n",
       "    </tr>\n",
       "  </tbody>\n",
       "</table>\n",
       "</div>"
      ],
      "text/plain": [
       "   ID          Terms Class (BOT) Major  Conc  Coop Citizenship  \\\n",
       "0   6  201435-201445          SR  ACCT  4COP     0  US Citizen   \n",
       "1  11  201415-201425          JR   FIN  4COP     0  US Citizen   \n",
       "2  25  201435-201445          JR  GBUS  4COP     0  US Citizen   \n",
       "3  37  201435-201445          SR  LGST  5COP     2  US Citizen   \n",
       "4  44  201435-201445          SO   BAE  5COP     1  US Citizen   \n",
       "\n",
       "                                           Strengths  \\\n",
       "0  [Student's] strengths include the ability to m...   \n",
       "1  Demonstrates knowledge in compiling and analyz...   \n",
       "2  [Student] is detail-oriented, customer-focused...   \n",
       "3  Excellent attention to detail and work ethic. ...   \n",
       "4  Communication skills, leadership, lead by example   \n",
       "\n",
       "                                            Weakness  \\\n",
       "0  In the time that I worked with [Student] - the...   \n",
       "1  Improvement needed in areas of following proto...   \n",
       "2  Opportunity exists for [Student] to know his a...   \n",
       "3  Communicating issues in a simple concise manne...   \n",
       "4                                   late on occasion   \n",
       "\n",
       "                                                Acad  \\\n",
       "0                                               None   \n",
       "1  Student needs a strong role model to help him ...   \n",
       "2  Training or a course on Corporate Communicatio...   \n",
       "3                                               None   \n",
       "4                                               None   \n",
       "\n",
       "                                             Merged1  Vader Sentiment  \\\n",
       "0  [Student's] strengths include the ability to m...           0.8934   \n",
       "1  Demonstrates knowledge in compiling and analyz...           0.8555   \n",
       "2  [Student] is detail-oriented, customer-focused...           0.5719   \n",
       "3  Excellent attention to detail and work ethic. ...           0.9538   \n",
       "4  Communication skills, leadership, lead by exam...           0.0000   \n",
       "\n",
       "  Vader Analysis  Vader Sentiment_S Vader Analysis_S  \n",
       "0       Positive             0.8271         Positive  \n",
       "1       Positive             0.8555         Positive  \n",
       "2       Positive             0.2732          Neutral  \n",
       "3       Positive             0.9325         Positive  \n",
       "4        Neutral             0.0000          Neutral  "
      ]
     },
     "execution_count": 47,
     "metadata": {},
     "output_type": "execute_result"
    }
   ],
   "source": [
    "df0['Vader Analysis_S'] = df0['Vader Sentiment_S'].apply(vader_analysis)\n",
    "df0.head()"
   ]
  },
  {
   "cell_type": "code",
   "execution_count": 48,
   "id": "a8dc72c3",
   "metadata": {},
   "outputs": [
    {
     "data": {
      "text/plain": [
       "Positive    544\n",
       "Neutral     221\n",
       "Negative      2\n",
       "Name: Vader Analysis_S, dtype: int64"
      ]
     },
     "execution_count": 48,
     "metadata": {},
     "output_type": "execute_result"
    }
   ],
   "source": [
    "vader_counts = df0['Vader Analysis_S'].value_counts()\n",
    "vader_counts"
   ]
  },
  {
   "cell_type": "code",
   "execution_count": 49,
   "id": "ecd81b09",
   "metadata": {},
   "outputs": [],
   "source": [
    "def vadersentimentanalysis(Weakness):\n",
    "    vs = sent_analyzer.polarity_scores(Weakness)\n",
    "    return vs['compound']"
   ]
  },
  {
   "cell_type": "code",
   "execution_count": 50,
   "id": "3d90fe9a",
   "metadata": {},
   "outputs": [],
   "source": [
    "def vadersentimentanalysis(Strengths):\n",
    "    vs = sent_analyzer.polarity_scores(Strengths)\n",
    "    return vs['compound']"
   ]
  },
  {
   "cell_type": "code",
   "execution_count": 51,
   "id": "8e122253",
   "metadata": {},
   "outputs": [],
   "source": [
    "df0['Vader Sentiment_W'] = df0['Weakness'].apply(vadersentimentanalysis)\n",
    "df0['Vader Analysis_W'] = df0['Vader Sentiment_W'].apply(vader_analysis)\n"
   ]
  },
  {
   "cell_type": "code",
   "execution_count": 52,
   "id": "20dfb1f5",
   "metadata": {},
   "outputs": [],
   "source": [
    "def vadersentimentanalysis(Strength):\n",
    "    vs = sent_analyzer.polarity_scores(Strength)\n",
    "    return vs['compound']"
   ]
  },
  {
   "cell_type": "code",
   "execution_count": 53,
   "id": "0cff87ab",
   "metadata": {},
   "outputs": [
    {
     "data": {
      "text/plain": [
       "Neutral     438\n",
       "Positive    300\n",
       "Negative     29\n",
       "Name: Vader Analysis_W, dtype: int64"
      ]
     },
     "execution_count": 53,
     "metadata": {},
     "output_type": "execute_result"
    }
   ],
   "source": [
    "vader_counts = df0['Vader Analysis_W'].value_counts()\n",
    "vader_counts"
   ]
  },
  {
   "cell_type": "code",
   "execution_count": 54,
   "id": "a7bb3210",
   "metadata": {},
   "outputs": [],
   "source": [
    "def vadersentimentanalysis(Merged):\n",
    "    vs = sent_analyzer.polarity_scores(Merged)\n",
    "    return vs['compound']"
   ]
  },
  {
   "cell_type": "code",
   "execution_count": 55,
   "id": "ec4524f2",
   "metadata": {},
   "outputs": [
    {
     "data": {
      "text/plain": [
       "Positive    487\n",
       "Neutral     133\n",
       "Negative      2\n",
       "Name: Vader Analysis_M, dtype: int64"
      ]
     },
     "execution_count": 55,
     "metadata": {},
     "output_type": "execute_result"
    }
   ],
   "source": [
    "#2015\n",
    "df1['Vader Sentiment_M'] = df1['Merged'].apply(vadersentimentanalysis)\n",
    "df1['Vader Analysis_M'] = df1['Vader Sentiment_M'].apply(vader_analysis)\n",
    "vader_counts_15 = df1['Vader Analysis_M'].value_counts()\n",
    "vader_counts_15"
   ]
  },
  {
   "cell_type": "code",
   "execution_count": 56,
   "id": "59504489",
   "metadata": {},
   "outputs": [
    {
     "data": {
      "text/plain": [
       "Positive    492\n",
       "Neutral     117\n",
       "Negative      7\n",
       "Name: Vader Analysis_M, dtype: int64"
      ]
     },
     "execution_count": 56,
     "metadata": {},
     "output_type": "execute_result"
    }
   ],
   "source": [
    "#2016\n",
    "df2['Vader Sentiment_M'] = df2['Merged'].apply(vadersentimentanalysis)\n",
    "df2['Vader Analysis_M'] = df2['Vader Sentiment_M'].apply(vader_analysis)\n",
    "vader_counts_16 = df2['Vader Analysis_M'].value_counts()\n",
    "vader_counts_16"
   ]
  },
  {
   "cell_type": "code",
   "execution_count": 57,
   "id": "2df08552",
   "metadata": {},
   "outputs": [
    {
     "data": {
      "text/plain": [
       "Positive    526\n",
       "Neutral     122\n",
       "Negative      9\n",
       "Name: Vader Analysis_M, dtype: int64"
      ]
     },
     "execution_count": 57,
     "metadata": {},
     "output_type": "execute_result"
    }
   ],
   "source": [
    "#2017\n",
    "df3['Vader Sentiment_M'] = df3['Merged'].apply(vadersentimentanalysis)\n",
    "df3['Vader Analysis_M'] = df3['Vader Sentiment_M'].apply(vader_analysis)\n",
    "vader_counts_17 = df3['Vader Analysis_M'].value_counts()\n",
    "vader_counts_17"
   ]
  },
  {
   "cell_type": "code",
   "execution_count": 58,
   "id": "98272a44",
   "metadata": {},
   "outputs": [
    {
     "data": {
      "text/plain": [
       "Positive    255\n",
       "Neutral      69\n",
       "Negative      2\n",
       "Name: Vader Analysis_M, dtype: int64"
      ]
     },
     "execution_count": 58,
     "metadata": {},
     "output_type": "execute_result"
    }
   ],
   "source": [
    "#2018\n",
    "df4['Vader Sentiment_M'] = df4['Merged'].apply(vadersentimentanalysis)\n",
    "df4['Vader Analysis_M'] = df4['Vader Sentiment_M'].apply(vader_analysis)\n",
    "vader_counts_18 = df4['Vader Analysis_M'].value_counts()\n",
    "vader_counts_18"
   ]
  },
  {
   "cell_type": "code",
   "execution_count": 59,
   "id": "fe1076fc",
   "metadata": {},
   "outputs": [
    {
     "data": {
      "text/plain": [
       "Positive    435\n",
       "Neutral     133\n",
       "Negative      6\n",
       "Name: Vader Analysis_M, dtype: int64"
      ]
     },
     "execution_count": 59,
     "metadata": {},
     "output_type": "execute_result"
    }
   ],
   "source": [
    "#2019\n",
    "df5['Vader Sentiment_M'] = df5['Merged'].apply(vadersentimentanalysis)\n",
    "df5['Vader Analysis_M'] = df5['Vader Sentiment_M'].apply(vader_analysis)\n",
    "vader_counts_19 = df5['Vader Analysis_M'].value_counts()\n",
    "vader_counts_19"
   ]
  },
  {
   "cell_type": "code",
   "execution_count": 60,
   "id": "fda8777c",
   "metadata": {},
   "outputs": [
    {
     "data": {
      "text/plain": [
       "Positive    540\n",
       "Neutral     158\n",
       "Negative      7\n",
       "Name: Vader Analysis_M, dtype: int64"
      ]
     },
     "execution_count": 60,
     "metadata": {},
     "output_type": "execute_result"
    }
   ],
   "source": [
    "#2020\n",
    "df6['Vader Sentiment_M'] = df6['merged'].apply(vadersentimentanalysis)\n",
    "df6['Vader Analysis_M'] = df6['Vader Sentiment_M'].apply(vader_analysis)\n",
    "vader_counts_20 = df6['Vader Analysis_M'].value_counts()\n",
    "vader_counts_20"
   ]
  },
  {
   "cell_type": "code",
   "execution_count": 61,
   "id": "e00d8cdf",
   "metadata": {},
   "outputs": [
    {
     "data": {
      "image/png": "[encoded data removed]",
      "text/plain": [
       "<Figure size 2520x360 with 7 Axes>"
      ]
     },
     "metadata": {},
     "output_type": "display_data"
    }
   ],
   "source": [
    "fig, axs10 = plt.subplots(1, 7, figsize=(35, 5))\n",
    "sns.barplot(data=df0, x='Coop', y='Vader Sentiment', ax=axs10[0])\n",
    "sns.barplot(data=df1, x='Coop', y='Vader Sentiment_M', ax=axs10[1])\n",
    "sns.barplot(data=df2, x='Coop', y='Vader Sentiment_M', ax=axs10[2])\n",
    "sns.barplot(data=df3, x='Coop', y='Vader Sentiment_M', ax=axs10[3])\n",
    "sns.barplot(data=df4, x='Coop', y='Vader Sentiment_M', ax=axs10[4])\n",
    "sns.barplot(data=df5, x='Coop', y='Vader Sentiment_M', ax=axs10[5])\n",
    "sns.barplot(data=df6, x='Coop', y='Vader Sentiment_M', ax=axs10[6])\n",
    "axs10[0].set_title('2014_Comp')\n",
    "axs10[1].set_title('2015_Comp')\n",
    "axs10[2].set_title('2016_Comp')\n",
    "axs10[3].set_title('2017_Comp')\n",
    "axs10[4].set_title('2018_Comp')\n",
    "axs10[5].set_title('2019_Comp')\n",
    "axs10[6].set_title('2020_Comp')\n",
    "plt.tight_layout()\n",
    "plt.show()"
   ]
  },
  {
   "cell_type": "code",
   "execution_count": 62,
   "id": "bf709119",
   "metadata": {},
   "outputs": [
    {
     "data": {
      "image/png": "[encoded data removed]",
      "text/plain": [
       "<Figure size 2520x360 with 7 Axes>"
      ]
     },
     "metadata": {},
     "output_type": "display_data"
    }
   ],
   "source": [
    "fig, axs11 = plt.subplots(1, 7, figsize=(35, 5))\n",
    "sns.barplot(data=df0, x='Coop', y='Vader Analysis', ax=axs11[0])\n",
    "sns.barplot(data=df1, x='Coop', y='Vader Analysis_M', ax=axs11[1])\n",
    "sns.barplot(data=df2, x='Coop', y='Vader Analysis_M', ax=axs11[2])\n",
    "sns.barplot(data=df3, x='Coop', y='Vader Analysis_M', ax=axs11[3])\n",
    "sns.barplot(data=df4, x='Coop', y='Vader Analysis_M', ax=axs11[4])\n",
    "sns.barplot(data=df5, x='Coop', y='Vader Analysis_M', ax=axs11[5])\n",
    "sns.barplot(data=df6, x='Coop', y='Vader Analysis_M', ax=axs11[6])\n",
    "axs11[0].set_title('2014_Comp')\n",
    "axs11[1].set_title('2015_Comp')\n",
    "axs11[2].set_title('2016_Comp')\n",
    "axs11[3].set_title('2017_Comp')\n",
    "axs11[4].set_title('2018_Comp')\n",
    "axs11[5].set_title('2019_Comp')\n",
    "axs11[6].set_title('2020_Comp')\n",
    "plt.tight_layout()\n",
    "plt.show()"
   ]
  },
  {
   "cell_type": "code",
   "execution_count": 63,
   "id": "21b34a9f",
   "metadata": {
    "scrolled": true
   },
   "outputs": [
    {
     "data": {
      "image/png": "[encoded data removed]",
      "text/plain": [
       "<Figure size 2520x360 with 7 Axes>"
      ]
     },
     "metadata": {},
     "output_type": "display_data"
    }
   ],
   "source": [
    "fig, axs12 = plt.subplots(1, 7, figsize=(35, 5))\n",
    "sns.barplot(data=df0, x='Vader Analysis', y='Coop', ax=axs12[0])\n",
    "sns.barplot(data=df1, x='Vader Analysis_M', y='Coop', ax=axs12[1])\n",
    "sns.barplot(data=df2, x='Vader Analysis_M', y='Coop', ax=axs12[2])\n",
    "sns.barplot(data=df3, x='Vader Analysis_M', y='Coop', ax=axs12[3])\n",
    "sns.barplot(data=df4, x='Vader Analysis_M', y='Coop', ax=axs12[4])\n",
    "sns.barplot(data=df5, x='Vader Analysis_M', y='Coop', ax=axs12[5])\n",
    "sns.barplot(data=df6, x='Vader Analysis_M', y='Coop', ax=axs12[6])\n",
    "axs12[0].set_title('2014_Comp')\n",
    "axs12[1].set_title('2015_Comp')\n",
    "axs12[2].set_title('2016_Comp')\n",
    "axs12[3].set_title('2017_Comp')\n",
    "axs12[4].set_title('2018_Comp')\n",
    "axs12[5].set_title('2019_Comp')\n",
    "axs12[6].set_title('2020_Comp')\n",
    "plt.tight_layout()\n",
    "plt.show()"
   ]
  },
  {
   "cell_type": "code",
   "execution_count": 64,
   "id": "919853d0",
   "metadata": {},
   "outputs": [
    {
     "data": {
      "text/plain": [
       "Positive    456\n",
       "Neutral     166\n",
       "Name: Vader Analysis_S, dtype: int64"
      ]
     },
     "execution_count": 64,
     "metadata": {},
     "output_type": "execute_result"
    }
   ],
   "source": [
    "#S_2015\n",
    "df1['Vader Sentiment_S'] = df1['Strengths'].apply(vadersentimentanalysis)\n",
    "df1['Vader Analysis_S'] = df1['Vader Sentiment_S'].apply(vader_analysis)\n",
    "vader_counts_S15 = df1['Vader Analysis_S'].value_counts()\n",
    "vader_counts_S15"
   ]
  },
  {
   "cell_type": "code",
   "execution_count": 65,
   "id": "bcb6325e",
   "metadata": {},
   "outputs": [
    {
     "data": {
      "text/plain": [
       "Positive    444\n",
       "Neutral     171\n",
       "Negative      1\n",
       "Name: Vader Analysis_S, dtype: int64"
      ]
     },
     "execution_count": 65,
     "metadata": {},
     "output_type": "execute_result"
    }
   ],
   "source": [
    "#S_2016\n",
    "df2['Vader Sentiment_S'] = df2['Strengths'].apply(vadersentimentanalysis)\n",
    "df2['Vader Analysis_S'] = df2['Vader Sentiment_S'].apply(vader_analysis)\n",
    "vader_counts_S16 = df2['Vader Analysis_S'].value_counts()\n",
    "vader_counts_S16"
   ]
  },
  {
   "cell_type": "code",
   "execution_count": 66,
   "id": "98a56aa0",
   "metadata": {},
   "outputs": [
    {
     "data": {
      "text/plain": [
       "Positive    488\n",
       "Neutral     167\n",
       "Negative      2\n",
       "Name: Vader Analysis_S, dtype: int64"
      ]
     },
     "execution_count": 66,
     "metadata": {},
     "output_type": "execute_result"
    }
   ],
   "source": [
    "#S_2017\n",
    "df3['Vader Sentiment_S'] = df3['Strengths'].apply(vadersentimentanalysis)\n",
    "df3['Vader Analysis_S'] = df3['Vader Sentiment_S'].apply(vader_analysis)\n",
    "vader_counts_S17 = df3['Vader Analysis_S'].value_counts()\n",
    "vader_counts_S17"
   ]
  },
  {
   "cell_type": "code",
   "execution_count": 67,
   "id": "3dc35ed4",
   "metadata": {},
   "outputs": [
    {
     "data": {
      "text/plain": [
       "Positive    231\n",
       "Neutral      95\n",
       "Name: Vader Analysis_S, dtype: int64"
      ]
     },
     "execution_count": 67,
     "metadata": {},
     "output_type": "execute_result"
    }
   ],
   "source": [
    "#S_2018\n",
    "df4['Vader Sentiment_S'] = df4['Strengths'].apply(vadersentimentanalysis)\n",
    "df4['Vader Analysis_S'] = df4['Vader Sentiment_S'].apply(vader_analysis)\n",
    "vader_counts_S18 = df4['Vader Analysis_S'].value_counts()\n",
    "vader_counts_S18"
   ]
  },
  {
   "cell_type": "code",
   "execution_count": 68,
   "id": "754408ba",
   "metadata": {},
   "outputs": [
    {
     "data": {
      "text/html": [
       "<div>\n",
       "<style scoped>\n",
       "    .dataframe tbody tr th:only-of-type {\n",
       "        vertical-align: middle;\n",
       "    }\n",
       "\n",
       "    .dataframe tbody tr th {\n",
       "        vertical-align: top;\n",
       "    }\n",
       "\n",
       "    .dataframe thead th {\n",
       "        text-align: right;\n",
       "    }\n",
       "</style>\n",
       "<table border=\"1\" class=\"dataframe\">\n",
       "  <thead>\n",
       "    <tr style=\"text-align: right;\">\n",
       "      <th></th>\n",
       "      <th>Responder ID</th>\n",
       "      <th>Work Terms</th>\n",
       "      <th>Major</th>\n",
       "      <th>Concentration</th>\n",
       "      <th>Class</th>\n",
       "      <th>Citizenship</th>\n",
       "      <th>Coop</th>\n",
       "      <th>Strengths</th>\n",
       "      <th>Weakness</th>\n",
       "      <th>Acad</th>\n",
       "      <th>Merged</th>\n",
       "      <th>Vader Sentiment_M</th>\n",
       "      <th>Vader Analysis_M</th>\n",
       "    </tr>\n",
       "  </thead>\n",
       "  <tbody>\n",
       "    <tr>\n",
       "      <th>0</th>\n",
       "      <td>12</td>\n",
       "      <td>201915-201925</td>\n",
       "      <td>FIN</td>\n",
       "      <td>5COP</td>\n",
       "      <td>JR</td>\n",
       "      <td>Domestic</td>\n",
       "      <td>3</td>\n",
       "      <td>Consistently willing to help out wherever nece...</td>\n",
       "      <td>Needs to pay more attention to detail and ensu...</td>\n",
       "      <td>Please note that this is not directly related ...</td>\n",
       "      <td>Consistently willing to help out wherever nece...</td>\n",
       "      <td>0.9169</td>\n",
       "      <td>Positive</td>\n",
       "    </tr>\n",
       "    <tr>\n",
       "      <th>1</th>\n",
       "      <td>27</td>\n",
       "      <td>201935-201945</td>\n",
       "      <td>BAE</td>\n",
       "      <td>5COP</td>\n",
       "      <td>SR</td>\n",
       "      <td>Domestic</td>\n",
       "      <td>3</td>\n",
       "      <td>1. Energy and thirst for learning new skills\\r...</td>\n",
       "      <td>1. More Frequent Communication &amp; Status Update...</td>\n",
       "      <td>N/A - Perfect fit</td>\n",
       "      <td>1. Energy and thirst for learning new skills\\r...</td>\n",
       "      <td>0.9954</td>\n",
       "      <td>Positive</td>\n",
       "    </tr>\n",
       "    <tr>\n",
       "      <th>2</th>\n",
       "      <td>58</td>\n",
       "      <td>201935-201945</td>\n",
       "      <td>SPBS</td>\n",
       "      <td>5COP</td>\n",
       "      <td>SR</td>\n",
       "      <td>Domestic</td>\n",
       "      <td>3</td>\n",
       "      <td>Jalen connects well with his peers.  He is a g...</td>\n",
       "      <td>Jalen can improve on being more aligned with t...</td>\n",
       "      <td>I would encourage Jalen to seek out courses in...</td>\n",
       "      <td>Jalen connects well with his peers.  He is a g...</td>\n",
       "      <td>0.9325</td>\n",
       "      <td>Positive</td>\n",
       "    </tr>\n",
       "    <tr>\n",
       "      <th>3</th>\n",
       "      <td>69</td>\n",
       "      <td>201925-201935</td>\n",
       "      <td>ACCT</td>\n",
       "      <td>5COP</td>\n",
       "      <td>SR</td>\n",
       "      <td>Domestic</td>\n",
       "      <td>0</td>\n",
       "      <td>hard worker and consistently showed up on time</td>\n",
       "      <td>na</td>\n",
       "      <td>na</td>\n",
       "      <td>hard worker and consistently showed up on timena</td>\n",
       "      <td>-0.1027</td>\n",
       "      <td>Neutral</td>\n",
       "    </tr>\n",
       "    <tr>\n",
       "      <th>4</th>\n",
       "      <td>75</td>\n",
       "      <td>201935-201945</td>\n",
       "      <td>MKTG</td>\n",
       "      <td>5COP</td>\n",
       "      <td>SR</td>\n",
       "      <td>Domestic</td>\n",
       "      <td>3</td>\n",
       "      <td>As you can see by all of the Top 10% selection...</td>\n",
       "      <td>His biggest weakness is the rate at which I'm ...</td>\n",
       "      <td>No changes.</td>\n",
       "      <td>As you can see by all of the Top 10% selection...</td>\n",
       "      <td>0.7096</td>\n",
       "      <td>Positive</td>\n",
       "    </tr>\n",
       "  </tbody>\n",
       "</table>\n",
       "</div>"
      ],
      "text/plain": [
       "   Responder ID     Work Terms Major Concentration Class Citizenship  Coop  \\\n",
       "0            12  201915-201925   FIN          5COP    JR    Domestic     3   \n",
       "1            27  201935-201945   BAE          5COP    SR    Domestic     3   \n",
       "2            58  201935-201945  SPBS          5COP    SR    Domestic     3   \n",
       "3            69  201925-201935  ACCT          5COP    SR    Domestic     0   \n",
       "4            75  201935-201945  MKTG          5COP    SR    Domestic     3   \n",
       "\n",
       "                                           Strengths  \\\n",
       "0  Consistently willing to help out wherever nece...   \n",
       "1  1. Energy and thirst for learning new skills\\r...   \n",
       "2  Jalen connects well with his peers.  He is a g...   \n",
       "3     hard worker and consistently showed up on time   \n",
       "4  As you can see by all of the Top 10% selection...   \n",
       "\n",
       "                                            Weakness  \\\n",
       "0  Needs to pay more attention to detail and ensu...   \n",
       "1  1. More Frequent Communication & Status Update...   \n",
       "2  Jalen can improve on being more aligned with t...   \n",
       "3                                                 na   \n",
       "4  His biggest weakness is the rate at which I'm ...   \n",
       "\n",
       "                                                Acad  \\\n",
       "0  Please note that this is not directly related ...   \n",
       "1                                  N/A - Perfect fit   \n",
       "2  I would encourage Jalen to seek out courses in...   \n",
       "3                                                 na   \n",
       "4                                        No changes.   \n",
       "\n",
       "                                              Merged  Vader Sentiment_M  \\\n",
       "0  Consistently willing to help out wherever nece...             0.9169   \n",
       "1  1. Energy and thirst for learning new skills\\r...             0.9954   \n",
       "2  Jalen connects well with his peers.  He is a g...             0.9325   \n",
       "3   hard worker and consistently showed up on timena            -0.1027   \n",
       "4  As you can see by all of the Top 10% selection...             0.7096   \n",
       "\n",
       "  Vader Analysis_M  \n",
       "0         Positive  \n",
       "1         Positive  \n",
       "2         Positive  \n",
       "3          Neutral  \n",
       "4         Positive  "
      ]
     },
     "execution_count": 68,
     "metadata": {},
     "output_type": "execute_result"
    }
   ],
   "source": [
    "df5.head()"
   ]
  },
  {
   "cell_type": "code",
   "execution_count": 69,
   "id": "78f62f1a",
   "metadata": {},
   "outputs": [],
   "source": [
    "import pandas as pd \n",
    "df0.to_csv('2014filtered_vader.csv')\n",
    "df1.to_csv('2015filtered_vader.csv')\n",
    "df2.to_csv('2016filtered_vader.csv')\n",
    "df3.to_csv('2017filtered_vader.csv')\n",
    "df4.to_csv('2018filtered_vader.csv')\n",
    "df5.to_csv('2019filtered_vader.csv')\n",
    "df6.to_csv('2020filtered_vader.csv')\n"
   ]
  },
  {
   "cell_type": "code",
   "execution_count": 70,
   "id": "af69f7ce",
   "metadata": {},
   "outputs": [],
   "source": [
    "!pip install -q transformers tweepy wordcloud matplotlib\n",
    "\n"
   ]
  },
  {
   "cell_type": "code",
   "execution_count": null,
   "id": "329bd451",
   "metadata": {},
   "outputs": [],
   "source": []
  }
 ],
 "metadata": {
  "kernelspec": {
   "display_name": "Python 3 (ipykernel)",
   "language": "python",
   "name": "python3"
  },
  "language_info": {
   "codemirror_mode": {
    "name": "ipython",
    "version": 3
   },
   "file_extension": ".py",
   "mimetype": "text/x-python",
   "name": "python",
   "nbconvert_exporter": "python",
   "pygments_lexer": "ipython3",
   "version": "3.9.12"
  }
 },
 "nbformat": 4,
 "nbformat_minor": 5
}
